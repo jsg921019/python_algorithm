{
 "cells": [
  {
   "cell_type": "markdown",
   "source": [
    "## Ⅰ. graph representation"
   ],
   "metadata": {}
  },
  {
   "cell_type": "markdown",
   "source": [
    "<img src='./img/simple_graph.png' width=40%/>"
   ],
   "metadata": {}
  },
  {
   "cell_type": "code",
   "execution_count": 38,
   "source": [
    "routes = [[3, 6], [4, 3], [3, 2], [1, 3], [1, 2], [2, 4], [5, 2]]"
   ],
   "outputs": [],
   "metadata": {}
  },
  {
   "cell_type": "markdown",
   "source": [
    "### 1. distance matrix"
   ],
   "metadata": {}
  },
  {
   "cell_type": "markdown",
   "source": [
    "```\n",
    "[[0, 1, 1, 0, 0, 0],\n",
    " [1, 0, 1, 1, 1, 0],\n",
    " [1, 1, 0, 1, 0, 1],\n",
    " [0, 1, 1, 0, 0, 0],\n",
    " [0, 1, 0, 0, 0, 0],\n",
    " [0, 0, 1, 0, 0, 0]]\n",
    "```"
   ],
   "metadata": {}
  },
  {
   "cell_type": "code",
   "execution_count": 39,
   "source": [
    "board = [[0]*6 for _ in range(6)]\n",
    "\n",
    "for x, y in routes:\n",
    "    board[x-1][y-1] = 1\n",
    "    board[y-1][x-1] = 1\n",
    "board"
   ],
   "outputs": [
    {
     "output_type": "execute_result",
     "data": {
      "text/plain": [
       "[[0, 1, 1, 0, 0, 0],\n",
       " [1, 0, 1, 1, 1, 0],\n",
       " [1, 1, 0, 1, 0, 1],\n",
       " [0, 1, 1, 0, 0, 0],\n",
       " [0, 1, 0, 0, 0, 0],\n",
       " [0, 0, 1, 0, 0, 0]]"
      ]
     },
     "metadata": {},
     "execution_count": 39
    }
   ],
   "metadata": {
    "scrolled": false
   }
  },
  {
   "cell_type": "markdown",
   "source": [
    "### 2. neighbors list"
   ],
   "metadata": {}
  },
  {
   "cell_type": "markdown",
   "source": [
    "```\n",
    "[[3, 2], [3, 1, 4, 5], [6, 4, 2, 1], [3, 2], [2], [3]]\n",
    "```"
   ],
   "metadata": {}
  },
  {
   "cell_type": "markdown",
   "source": [
    "* from route"
   ],
   "metadata": {}
  },
  {
   "cell_type": "code",
   "execution_count": 40,
   "source": [
    "neighbors = [[] for _ in range(6)]\n",
    "for x, y in routes:\n",
    "    neighbors[x-1].append(y)\n",
    "    neighbors[y-1].append(x)\n",
    "neighbors"
   ],
   "outputs": [
    {
     "output_type": "execute_result",
     "data": {
      "text/plain": [
       "[[3, 2], [3, 1, 4, 5], [6, 4, 2, 1], [3, 2], [2], [3]]"
      ]
     },
     "metadata": {},
     "execution_count": 40
    }
   ],
   "metadata": {}
  },
  {
   "cell_type": "markdown",
   "source": [
    "* from board"
   ],
   "metadata": {}
  },
  {
   "cell_type": "code",
   "execution_count": null,
   "source": [
    "neighbors = [[i+1 for i, d in enumerate(row) if d] for row in board]\n",
    "neighbors"
   ],
   "outputs": [],
   "metadata": {}
  },
  {
   "cell_type": "markdown",
   "source": [
    "### 3. dictionary"
   ],
   "metadata": {}
  },
  {
   "cell_type": "markdown",
   "source": [
    "```\n",
    "{\n",
    "    3: [6, 4, 2, 1],\n",
    "    6: [3],\n",
    "    4: [3, 2],\n",
    "    2: [3, 1, 4, 5],\n",
    "    1: [3, 2],\n",
    "    5: [2]\n",
    "}\n",
    "```"
   ],
   "metadata": {}
  },
  {
   "cell_type": "code",
   "execution_count": 41,
   "source": [
    "from collections import defaultdict\n",
    "\n",
    "d = defaultdict(list)\n",
    "\n",
    "for x, y in routes:\n",
    "    d[x].append(y)\n",
    "    d[y].append(x)\n",
    "\n",
    "d"
   ],
   "outputs": [
    {
     "output_type": "execute_result",
     "data": {
      "text/plain": [
       "defaultdict(list,\n",
       "            {3: [6, 4, 2, 1],\n",
       "             6: [3],\n",
       "             4: [3, 2],\n",
       "             2: [3, 1, 4, 5],\n",
       "             1: [3, 2],\n",
       "             5: [2]})"
      ]
     },
     "metadata": {},
     "execution_count": 41
    }
   ],
   "metadata": {
    "scrolled": true
   }
  },
  {
   "cell_type": "markdown",
   "source": [
    "<img src='./img/dbfs.gif'/>"
   ],
   "metadata": {}
  },
  {
   "cell_type": "markdown",
   "source": [
    "<br>\n",
    "\n",
    "## Ⅱ. DFS"
   ],
   "metadata": {}
  },
  {
   "cell_type": "markdown",
   "source": [
    "<img src='./img/dfs.png' width=40% />"
   ],
   "metadata": {}
  },
  {
   "cell_type": "markdown",
   "source": [
    "```python\n",
    "stack = [start_node]\n",
    "visited = [0]*N\n",
    "\n",
    "while stack:\n",
    "\n",
    "    node = stack.pop()\n",
    "        continue\n",
    "    visited[node] = 1\n",
    "\n",
    "    visit(stack)\n",
    "\n",
    "    stack += neighbors[node]\n",
    "    if node in visited:\n",
    "```"
   ],
   "metadata": {}
  },
  {
   "cell_type": "code",
   "execution_count": 2,
   "source": [
    "neighbors = {0:[1,5], 1:[2], 2:[1,3,4,5], 3:[2,4], 4:[2,3], 5:[0, 2]}\n",
    "\n",
    "stack = [0]\n",
    "visited = [0]*6\n",
    "\n",
    "while stack:\n",
    "\n",
    "    node = stack.pop()\n",
    "    if visited[node]:\n",
    "        continue\n",
    "    visited[node] = 1\n",
    "\n",
    "    print(node)\n",
    "\n",
    "    stack += neighbors[node]"
   ],
   "outputs": [
    {
     "output_type": "stream",
     "name": "stdout",
     "text": [
      "0\n",
      "5\n",
      "2\n",
      "4\n",
      "3\n",
      "1\n"
     ]
    }
   ],
   "metadata": {}
  },
  {
   "cell_type": "markdown",
   "source": [
    "```python\n",
    "visited = [0]*N\n",
    "\n",
    "def dfs(node):\n",
    "\n",
    "    if visited[node]:\n",
    "        return\n",
    "    visited[node] = 1\n",
    "\n",
    "    visit(node)\n",
    "\n",
    "    for next_node in neighbors[node]:\n",
    "        dfs(next_node)\n",
    "\n",
    "dfs(start_node)\n",
    "```"
   ],
   "metadata": {}
  },
  {
   "cell_type": "code",
   "execution_count": 15,
   "source": [
    "visited = [0]*6\n",
    "\n",
    "def dfs(node):\n",
    "    \n",
    "    print(node)\n",
    "\n",
    "    for next_node in neighbors[node]:\n",
    "        if not visited[next_node]:\n",
    "            visited[next_node] = 1\n",
    "            dfs(next_node)\n",
    "\n",
    "dfs(0)"
   ],
   "outputs": [
    {
     "output_type": "stream",
     "name": "stdout",
     "text": [
      "0\n",
      "1\n",
      "2\n",
      "3\n",
      "4\n",
      "5\n",
      "0\n"
     ]
    }
   ],
   "metadata": {}
  },
  {
   "cell_type": "markdown",
   "source": [
    "### BFS"
   ],
   "metadata": {}
  },
  {
   "cell_type": "markdown",
   "source": [
    "<img src='./img/dfs.png' width=40% />"
   ],
   "metadata": {}
  },
  {
   "cell_type": "markdown",
   "source": [
    "```python\n",
    "queue = [start_node]\n",
    "visited = [0]*N\n",
    "\n",
    "while queue:\n",
    "\n",
    "    node = queue.popleft()\n",
    "    if node in visited:\n",
    "        continue\n",
    "    visited[node] = 1\n",
    "\n",
    "    visit(node)\n",
    "\n",
    "    queue += neighbors[node]\n",
    "```"
   ],
   "metadata": {}
  },
  {
   "cell_type": "code",
   "execution_count": 19,
   "source": [
    "from collections import deque\n",
    "\n",
    "queue = deque([0])\n",
    "visited = [0]*6\n",
    "\n",
    "while queue:\n",
    "\n",
    "    node = queue.popleft()\n",
    "    if visited[node]:\n",
    "        continue\n",
    "\n",
    "    visited[node] = 1\n",
    "\n",
    "    print(node)\n",
    "\n",
    "    queue += neighbors[node]\n"
   ],
   "outputs": [
    {
     "output_type": "stream",
     "name": "stdout",
     "text": [
      "0\n",
      "1\n",
      "5\n",
      "2\n",
      "3\n",
      "4\n"
     ]
    }
   ],
   "metadata": {}
  },
  {
   "cell_type": "markdown",
   "source": [
    "https://www.acmicpc.net/problem/1260  \n",
    "https://www.acmicpc.net/problem/2606  \n",
    "https://www.acmicpc.net/problem/2667  \n",
    "https://www.acmicpc.net/problem/1068  \n",
    "  \n",
    "https://programmers.co.kr/learn/courses/30/lessons/1844  \n",
    "https://school.programmers.co.kr/learn/courses/30/lessons/43163  \n",
    "https://www.acmicpc.net/problem/2206  "
   ],
   "metadata": {}
  }
 ],
 "metadata": {
  "kernelspec": {
   "name": "python3",
   "display_name": "Python 3.9.7 64-bit ('nonogram': conda)"
  },
  "language_info": {
   "codemirror_mode": {
    "name": "ipython",
    "version": 3
   },
   "file_extension": ".py",
   "mimetype": "text/x-python",
   "name": "python",
   "nbconvert_exporter": "python",
   "pygments_lexer": "ipython3",
   "version": "3.9.7"
  },
  "interpreter": {
   "hash": "8d08de652c29e97955cf26e6ceb7d8de8533cd55f1230530ecb34347e800f09c"
  }
 },
 "nbformat": 4,
 "nbformat_minor": 5
}