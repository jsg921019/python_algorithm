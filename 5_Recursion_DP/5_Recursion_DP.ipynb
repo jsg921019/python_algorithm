{
 "cells": [
  {
   "cell_type": "markdown",
   "source": [
    "## 1. Recursion"
   ],
   "metadata": {}
  },
  {
   "cell_type": "markdown",
   "source": [
    "```\n",
    "def problem(...):\n",
    "\n",
    "    if atomic_case:\n",
    "        return ...\n",
    "    \n",
    "    return f(problem(...), problem(...), problem(...), ...)\n",
    "\n",
    " general_problem(interested_case)\n",
    "```"
   ],
   "metadata": {}
  },
  {
   "cell_type": "markdown",
   "source": [
    "## 2. Dynamic Programming"
   ],
   "metadata": {}
  },
  {
   "cell_type": "markdown",
   "source": [
    "```python\n",
    "dp = [...] # atomic case\n",
    "\n",
    "for step in ...:\n",
    "    dp = update(dp)\n",
    "\n",
    "dp[-1] # interested_case\n",
    "```"
   ],
   "metadata": {}
  },
  {
   "cell_type": "markdown",
   "source": [
    "## 3. 예제"
   ],
   "metadata": {}
  },
  {
   "cell_type": "markdown",
   "source": [
    "1. [2 x n 타일링](https://school.programmers.co.kr/learn/courses/30/lessons/12900)\n",
    "2. [정수 삼각형](https://school.programmers.co.kr/learn/courses/30/lessons/43105)\n",
    "3. [색종이 만들기](https://www.acmicpc.net/problem/2630)\n",
    "4. [1학년](https://www.acmicpc.net/problem/5557)\n",
    "5. [동전 1](https://www.acmicpc.net/problem/2293)\n",
    "6. [내리막길](https://www.acmicpc.net/problem/1520)"
   ],
   "metadata": {}
  }
 ],
 "metadata": {
  "orig_nbformat": 4,
  "language_info": {
   "name": "python",
   "version": "3.9.7",
   "mimetype": "text/x-python",
   "codemirror_mode": {
    "name": "ipython",
    "version": 3
   },
   "pygments_lexer": "ipython3",
   "nbconvert_exporter": "python",
   "file_extension": ".py"
  },
  "kernelspec": {
   "name": "python3",
   "display_name": "Python 3.9.7 64-bit ('nonogram': conda)"
  },
  "interpreter": {
   "hash": "8d08de652c29e97955cf26e6ceb7d8de8533cd55f1230530ecb34347e800f09c"
  }
 },
 "nbformat": 4,
 "nbformat_minor": 2
}