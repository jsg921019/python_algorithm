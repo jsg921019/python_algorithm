{
 "cells": [
  {
   "cell_type": "markdown",
   "source": [
    "## Djikstra"
   ],
   "metadata": {}
  },
  {
   "cell_type": "markdown",
   "source": [
    "<img src='./img/djikstra.png' width=50%/>"
   ],
   "metadata": {}
  },
  {
   "cell_type": "code",
   "execution_count": 3,
   "source": [
    "neighbors = {\n",
    "    1: [(3, 41), (4, 10), (5, 24), (6, 25)],\n",
    "    2: [(3, 22), (4, 66)],\n",
    "    3: [(1, 41), (2, 22), (5, 24)],\n",
    "    4: [(1, 10), (2, 66), (6, 50)],\n",
    "    5: [(1, 24), (3, 24), (6, 2)],\n",
    "    6: [(1, 25), (4, 50), (5, 2)]\n",
    "}"
   ],
   "outputs": [],
   "metadata": {}
  },
  {
   "cell_type": "code",
   "execution_count": 7,
   "source": [
    "from collections import deque\n",
    "\n",
    "def bfs(start):\n",
    "    \n",
    "    visited = [0]*(len(neighbors)+1)\n",
    "    q = deque([(0, start)])\n",
    "\n",
    "    while q:\n",
    "\n",
    "        d, node = q.popleft()\n",
    "\n",
    "        if visited[node]:\n",
    "            continue\n",
    "        visited[node] = 1\n",
    "\n",
    "        print(f'shortest path from {start} to {node} is {d}')\n",
    "\n",
    "        for next_node, cost in neighbors[node]:\n",
    "            q.append((d + 1, next_node))\n",
    "\n",
    "bfs(4)"
   ],
   "outputs": [
    {
     "output_type": "stream",
     "name": "stdout",
     "text": [
      "shortest path from 4 to 4 is 0\n",
      "shortest path from 4 to 1 is 1\n",
      "shortest path from 4 to 2 is 1\n",
      "shortest path from 4 to 6 is 1\n",
      "shortest path from 4 to 3 is 2\n",
      "shortest path from 4 to 5 is 2\n"
     ]
    }
   ],
   "metadata": {}
  },
  {
   "cell_type": "code",
   "execution_count": 5,
   "source": [
    "from heapq import heappop, heappush\n",
    "\n",
    "def dijkstra(start):\n",
    "    \n",
    "    visited = [0]*(len(neighbors)+1)\n",
    "    h = [(0, start)]\n",
    "\n",
    "    while h:\n",
    "\n",
    "        d, node = heappop(h)\n",
    "\n",
    "        if visited[node]:\n",
    "            continue\n",
    "        visited[node] = 1\n",
    "\n",
    "        print(f'shortest path from {start} to {node} is {d}')\n",
    "\n",
    "        for next_node, cost in neighbors[node]:\n",
    "            heappush(h, (d + cost, next_node))\n",
    "\n",
    "dijkstra(1)"
   ],
   "outputs": [
    {
     "output_type": "stream",
     "name": "stdout",
     "text": [
      "shortest path from 1 to 1 is 0\n",
      "shortest path from 1 to 4 is 10\n",
      "shortest path from 1 to 5 is 24\n",
      "shortest path from 1 to 6 is 25\n",
      "shortest path from 1 to 3 is 41\n",
      "shortest path from 1 to 2 is 63\n"
     ]
    }
   ],
   "metadata": {}
  },
  {
   "cell_type": "markdown",
   "source": [
    "https://www.acmicpc.net/problem/1753  \n",
    "https://www.acmicpc.net/problem/1504  \n"
   ],
   "metadata": {}
  }
 ],
 "metadata": {
  "kernelspec": {
   "name": "python3",
   "display_name": "Python 3.9.7 64-bit ('nonogram': conda)"
  },
  "language_info": {
   "codemirror_mode": {
    "name": "ipython",
    "version": 3
   },
   "file_extension": ".py",
   "mimetype": "text/x-python",
   "name": "python",
   "nbconvert_exporter": "python",
   "pygments_lexer": "ipython3",
   "version": "3.9.7"
  },
  "interpreter": {
   "hash": "8d08de652c29e97955cf26e6ceb7d8de8533cd55f1230530ecb34347e800f09c"
  }
 },
 "nbformat": 4,
 "nbformat_minor": 5
}