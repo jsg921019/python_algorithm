{
 "cells": [
  {
   "cell_type": "markdown",
   "source": [
    "## 1. 이분탐색"
   ],
   "metadata": {}
  },
  {
   "cell_type": "markdown",
   "source": [
    "> 예시 Pseudo code"
   ],
   "metadata": {}
  },
  {
   "cell_type": "markdown",
   "source": [
    "```python\n",
    "\n",
    "# f(x) == target 이 되는 x 값 찾기\n",
    "\n",
    "lo, hi 범위 설정\n",
    "\n",
    "while lo <= hi:\n",
    "\n",
    "    mid = (lo + hi) // 2\n",
    "    value_mid = f(mid)\n",
    "\n",
    "    if value_mid > target:\n",
    "        hi = mid - 1 \n",
    "                    \n",
    "    elif value_mid < target:\n",
    "        lo = mid + 1\n",
    "    \n",
    "    else:\n",
    "        return mid # 찾음\n",
    "\n",
    "return None # 못 찾음\n",
    "```"
   ],
   "metadata": {}
  },
  {
   "cell_type": "code",
   "execution_count": 9,
   "source": [
    "l = [3, 8, 10, 15, 19, 24, 27, 30, 32, 35]\n",
    "\n",
    "def binary_search(l, target):\n",
    "\n",
    "    lo, hi = 0, len(l)-1\n",
    "\n",
    "    while lo <= hi:\n",
    "\n",
    "        mid = (lo + hi) // 2\n",
    "        value_mid = l[mid]\n",
    "\n",
    "        if value_mid > target:\n",
    "            hi = mid - 1 \n",
    "                    \n",
    "        elif value_mid < target:\n",
    "            lo = mid + 1\n",
    "        \n",
    "        else:\n",
    "            return mid # 찾음\n",
    "\n",
    "    return 'no match' # 못 찾음"
   ],
   "outputs": [],
   "metadata": {}
  },
  {
   "cell_type": "code",
   "execution_count": 17,
   "source": [
    "l = [3, 8, 8, 8, 8, 10, 15, 19, 24, 27, 30, 32, 35]\n",
    "\n",
    "def binary_search(l, target):\n",
    "\n",
    "    lo, hi = 0, len(l)-1\n",
    "\n",
    "    while lo <= hi:\n",
    "\n",
    "        mid = (lo + hi) // 2\n",
    "        value_mid = l[mid]\n",
    "\n",
    "        if value_mid > target:\n",
    "            hi = mid - 1 \n",
    "                    \n",
    "        else:\n",
    "            lo = mid + 1\n",
    "\n",
    "    return hi # 못 찾음"
   ],
   "outputs": [],
   "metadata": {}
  },
  {
   "cell_type": "markdown",
   "source": [
    "> bisect"
   ],
   "metadata": {}
  },
  {
   "cell_type": "code",
   "execution_count": 26,
   "source": [
    "from bisect import bisect_left, bisect_right\n",
    "\n",
    "l = [3, 8, 8, 8, 8, 10, 15, 19, 24, 27, 30, 32, 35]"
   ],
   "outputs": [],
   "metadata": {}
  },
  {
   "cell_type": "markdown",
   "source": [
    "> 예시 문제"
   ],
   "metadata": {}
  },
  {
   "cell_type": "markdown",
   "source": [
    "[연습문제 1](https://www.acmicpc.net/problem/1654)  \n",
    "[연습문제 2](https://school.programmers.co.kr/learn/courses/30/lessons/64062?language=python3)"
   ],
   "metadata": {}
  }
 ],
 "metadata": {
  "kernelspec": {
   "name": "python3",
   "display_name": "Python 3.9.7 64-bit ('nonogram': conda)"
  },
  "language_info": {
   "codemirror_mode": {
    "name": "ipython",
    "version": 3
   },
   "file_extension": ".py",
   "mimetype": "text/x-python",
   "name": "python",
   "nbconvert_exporter": "python",
   "pygments_lexer": "ipython3",
   "version": "3.9.7"
  },
  "interpreter": {
   "hash": "8d08de652c29e97955cf26e6ceb7d8de8533cd55f1230530ecb34347e800f09c"
  }
 },
 "nbformat": 4,
 "nbformat_minor": 4
}