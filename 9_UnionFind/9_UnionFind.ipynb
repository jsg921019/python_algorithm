{
 "cells": [
  {
   "cell_type": "markdown",
   "source": [
    "# Union-Find"
   ],
   "metadata": {}
  },
  {
   "cell_type": "markdown",
   "source": [
    "<img src=\"./img/unionfind.png\">"
   ],
   "metadata": {}
  },
  {
   "cell_type": "code",
   "execution_count": 11,
   "source": [
    "parents = [None, 2, 2, 3, 3, 2, 2, 7, 5]"
   ],
   "outputs": [],
   "metadata": {}
  },
  {
   "cell_type": "markdown",
   "source": [
    "## 1. Find"
   ],
   "metadata": {}
  },
  {
   "cell_type": "code",
   "execution_count": 6,
   "source": [
    "def find(n, parents):\n",
    "    p = parents[n]\n",
    "    if n == p:\n",
    "        return n\n",
    "    return find(p, parents)"
   ],
   "outputs": [],
   "metadata": {}
  },
  {
   "cell_type": "code",
   "execution_count": 7,
   "source": [
    "for n in range(1, len(parents)):\n",
    "    print(f'root of {n} is {find(n, parents)}')"
   ],
   "outputs": [
    {
     "output_type": "stream",
     "name": "stdout",
     "text": [
      "root of 1 is 2\n",
      "root of 2 is 2\n",
      "root of 3 is 3\n",
      "root of 4 is 3\n",
      "root of 5 is 2\n",
      "root of 6 is 2\n",
      "root of 7 is 7\n",
      "root of 8 is 2\n"
     ]
    }
   ],
   "metadata": {}
  },
  {
   "cell_type": "code",
   "execution_count": 12,
   "source": [
    "def find(n, parents):\n",
    "    p = parents[n]\n",
    "    while n != p:\n",
    "        n, p = p, parents[p]\n",
    "    return p\n",
    "\n",
    "for n in range(1, len(parents)):\n",
    "    print(f'root of {n} is {find(n, parents)}')"
   ],
   "outputs": [
    {
     "output_type": "stream",
     "name": "stdout",
     "text": [
      "root of 1 is 2\n",
      "root of 2 is 2\n",
      "root of 3 is 3\n",
      "root of 4 is 3\n",
      "root of 5 is 2\n",
      "root of 6 is 2\n",
      "root of 7 is 7\n",
      "root of 8 is 2\n"
     ]
    }
   ],
   "metadata": {}
  },
  {
   "cell_type": "markdown",
   "source": [
    "## 2. Union"
   ],
   "metadata": {}
  },
  {
   "cell_type": "code",
   "execution_count": 13,
   "source": [
    "def union(a, b, parents):\n",
    "    p_a = find(a, parents)\n",
    "    p_b = find(b, parents)\n",
    "    parents[p_a] = p_b"
   ],
   "outputs": [],
   "metadata": {}
  },
  {
   "cell_type": "code",
   "execution_count": 14,
   "source": [
    "union(8, 4, parents)\n",
    "\n",
    "for n in range(1, len(parents)):\n",
    "    print(f'root of {n} is {find(n, parents)}')"
   ],
   "outputs": [
    {
     "output_type": "stream",
     "name": "stdout",
     "text": [
      "root of 1 is 3\n",
      "root of 2 is 3\n",
      "root of 3 is 3\n",
      "root of 4 is 3\n",
      "root of 5 is 3\n",
      "root of 6 is 3\n",
      "root of 7 is 7\n",
      "root of 8 is 3\n"
     ]
    }
   ],
   "metadata": {}
  },
  {
   "cell_type": "markdown",
   "source": [
    "## 예시문제  \n",
    "  \n",
    "https://www.acmicpc.net/problem/1717\n",
    "https://www.acmicpc.net/problem/4195 \n",
    "https://www.acmicpc.net/problem/10775"
   ],
   "metadata": {}
  }
 ],
 "metadata": {
  "orig_nbformat": 4,
  "language_info": {
   "name": "python",
   "version": "3.9.7",
   "mimetype": "text/x-python",
   "codemirror_mode": {
    "name": "ipython",
    "version": 3
   },
   "pygments_lexer": "ipython3",
   "nbconvert_exporter": "python",
   "file_extension": ".py"
  },
  "kernelspec": {
   "name": "python3",
   "display_name": "Python 3.9.7 64-bit ('nonogram': conda)"
  },
  "interpreter": {
   "hash": "8d08de652c29e97955cf26e6ceb7d8de8533cd55f1230530ecb34347e800f09c"
  }
 },
 "nbformat": 4,
 "nbformat_minor": 2
}