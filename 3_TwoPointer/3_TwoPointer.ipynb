{
 "cells": [
  {
   "cell_type": "markdown",
   "source": [
    "## 1. 투포인터"
   ],
   "metadata": {}
  },
  {
   "cell_type": "markdown",
   "source": [
    "> 예시 Pseudo code"
   ],
   "metadata": {}
  },
  {
   "cell_type": "markdown",
   "source": [
    "```python\n",
    "\n",
    "start, end, 기타 초기값 설정\n",
    "\n",
    "while 종료 조건:\n",
    "\n",
    "    조건에 필요한 setup\n",
    "\n",
    "    if 조건 1:\n",
    "        start, end, 기타 값 update\n",
    "\n",
    "    elif 조건 2:\n",
    "        start, end, 기타 값 update\n",
    "    ...\n",
    "```"
   ],
   "metadata": {}
  },
  {
   "cell_type": "markdown",
   "source": [
    "> 예시 문제"
   ],
   "metadata": {}
  },
  {
   "cell_type": "markdown",
   "source": [
    "[연습문제 1](https://www.acmicpc.net/problem/2003)  \n",
    "[연습문제 2](https://programmers.co.kr/learn/courses/30/lessons/12924)  \n",
    "[연습문제 3](https://www.acmicpc.net/problem/2467)  "
   ],
   "metadata": {}
  }
 ],
 "metadata": {
  "kernelspec": {
   "name": "python3",
   "display_name": "Python 3.9.7 64-bit ('nonogram': conda)"
  },
  "language_info": {
   "codemirror_mode": {
    "name": "ipython",
    "version": 3
   },
   "file_extension": ".py",
   "mimetype": "text/x-python",
   "name": "python",
   "nbconvert_exporter": "python",
   "pygments_lexer": "ipython3",
   "version": "3.9.7"
  },
  "interpreter": {
   "hash": "8d08de652c29e97955cf26e6ceb7d8de8533cd55f1230530ecb34347e800f09c"
  }
 },
 "nbformat": 4,
 "nbformat_minor": 4
}