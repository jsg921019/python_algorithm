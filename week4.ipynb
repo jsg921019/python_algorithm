{
 "cells": [
  {
   "cell_type": "markdown",
   "metadata": {},
   "source": [
    "## Ⅰ. graph representation"
   ]
  },
  {
   "cell_type": "markdown",
   "metadata": {},
   "source": [
    "<img src='img/simple_graph.png' width=40%/>"
   ]
  },
  {
   "cell_type": "code",
   "execution_count": 38,
   "metadata": {},
   "outputs": [],
   "source": [
    "routes = [[3, 6], [4, 3], [3, 2], [1, 3], [1, 2], [2, 4], [5, 2]]"
   ]
  },
  {
   "cell_type": "markdown",
   "metadata": {},
   "source": [
    "### 1. distance matrix"
   ]
  },
  {
   "cell_type": "markdown",
   "metadata": {},
   "source": [
    "```\n",
    "[[0, 1, 1, 0, 0, 0],\n",
    " [1, 0, 1, 1, 1, 0],\n",
    " [1, 1, 0, 1, 0, 1],\n",
    " [0, 1, 1, 0, 0, 0],\n",
    " [0, 1, 0, 0, 0, 0],\n",
    " [0, 0, 1, 0, 0, 0]]\n",
    "```"
   ]
  },
  {
   "cell_type": "code",
   "execution_count": 39,
   "metadata": {
    "scrolled": false
   },
   "outputs": [
    {
     "data": {
      "text/plain": [
       "[[0, 1, 1, 0, 0, 0],\n",
       " [1, 0, 1, 1, 1, 0],\n",
       " [1, 1, 0, 1, 0, 1],\n",
       " [0, 1, 1, 0, 0, 0],\n",
       " [0, 1, 0, 0, 0, 0],\n",
       " [0, 0, 1, 0, 0, 0]]"
      ]
     },
     "execution_count": 39,
     "metadata": {},
     "output_type": "execute_result"
    }
   ],
   "source": [
    "board = [[0]*6 for _ in range(6)]\n",
    "\n",
    "for x, y in routes:\n",
    "    board[x-1][y-1] = 1\n",
    "    board[y-1][x-1] = 1\n",
    "board"
   ]
  },
  {
   "cell_type": "markdown",
   "metadata": {},
   "source": [
    "### 2. neighbors list"
   ]
  },
  {
   "cell_type": "markdown",
   "metadata": {},
   "source": [
    "```\n",
    "[[3, 2], [3, 1, 4, 5], [6, 4, 2, 1], [3, 2], [2], [3]]\n",
    "```"
   ]
  },
  {
   "cell_type": "markdown",
   "metadata": {},
   "source": [
    "* from route"
   ]
  },
  {
   "cell_type": "code",
   "execution_count": 40,
   "metadata": {},
   "outputs": [
    {
     "data": {
      "text/plain": [
       "[[3, 2], [3, 1, 4, 5], [6, 4, 2, 1], [3, 2], [2], [3]]"
      ]
     },
     "execution_count": 40,
     "metadata": {},
     "output_type": "execute_result"
    }
   ],
   "source": [
    "neighbors = [[] for _ in range(6)]\n",
    "for x, y in routes:\n",
    "    neighbors[x-1].append(y)\n",
    "    neighbors[y-1].append(x)\n",
    "neighbors"
   ]
  },
  {
   "cell_type": "markdown",
   "metadata": {},
   "source": [
    "* from board"
   ]
  },
  {
   "cell_type": "code",
   "execution_count": null,
   "metadata": {},
   "outputs": [],
   "source": [
    "neighbors = [[i+1 for i, d in enumerate(row) if d] for row in board]\n",
    "neighbors"
   ]
  },
  {
   "cell_type": "markdown",
   "metadata": {},
   "source": [
    "### 3. dictionary"
   ]
  },
  {
   "cell_type": "markdown",
   "metadata": {},
   "source": [
    "```\n",
    "{\n",
    "    3: [6, 4, 2, 1],\n",
    "    6: [3],\n",
    "    4: [3, 2],\n",
    "    2: [3, 1, 4, 5],\n",
    "    1: [3, 2],\n",
    "    5: [2]\n",
    "}\n",
    "```"
   ]
  },
  {
   "cell_type": "code",
   "execution_count": 41,
   "metadata": {
    "scrolled": true
   },
   "outputs": [
    {
     "data": {
      "text/plain": [
       "defaultdict(list,\n",
       "            {3: [6, 4, 2, 1],\n",
       "             6: [3],\n",
       "             4: [3, 2],\n",
       "             2: [3, 1, 4, 5],\n",
       "             1: [3, 2],\n",
       "             5: [2]})"
      ]
     },
     "execution_count": 41,
     "metadata": {},
     "output_type": "execute_result"
    }
   ],
   "source": [
    "from collections import defaultdict\n",
    "\n",
    "d = defaultdict(list)\n",
    "\n",
    "for x, y in routes:\n",
    "    d[x].append(y)\n",
    "    d[y].append(x)\n",
    "\n",
    "d"
   ]
  },
  {
   "cell_type": "markdown",
   "metadata": {},
   "source": [
    "<img src='img/dbfs.gif'/>"
   ]
  },
  {
   "cell_type": "markdown",
   "metadata": {},
   "source": [
    "[미나토 하이라이트](https://www.youtube.com/watch?v=5ktL_3Vhz-U)"
   ]
  },
  {
   "cell_type": "markdown",
   "metadata": {},
   "source": [
    "<br>\n",
    "\n",
    "## Ⅱ. DFS"
   ]
  },
  {
   "cell_type": "markdown",
   "metadata": {},
   "source": [
    "<img src='img/dfs.png' width=40% />"
   ]
  },
  {
   "cell_type": "code",
   "execution_count": null,
   "metadata": {},
   "outputs": [],
   "source": [
    "# 1. 처음에 시작 위치에 수리검을 꽂고 시작한다. 이 위치를 미나토는 똑똑히 기록하고 있다...\n",
    "\n",
    "# 2. 가장 최근 꽂은 수리검으로 순간이동한다. 이 곳을 꼼꼼히 살피고 기록한다. 음..이곳은 아니야!\n",
    "\n",
    "# 3. 인근 모든 곳에 수리검이 꽂힌적이 없다면 수리검을 푱푱 날린다. 푱푱!\n",
    "\n",
    "# 4. 이짓을 목표에 도달하거나 갈 수리검이 없을 때까지 반복한다."
   ]
  },
  {
   "cell_type": "code",
   "execution_count": 42,
   "metadata": {},
   "outputs": [],
   "source": [
    "neighbors = {0:[1,5], 1:[2], 2:[1,3,4,5], 3:[2,4], 4:[2,3], 5:[0, 2]}"
   ]
  },
  {
   "cell_type": "code",
   "execution_count": 46,
   "metadata": {},
   "outputs": [
    {
     "name": "stdout",
     "output_type": "stream",
     "text": [
      "6\n"
     ]
    }
   ],
   "source": [
    "start_room = 0\n",
    "n_rooms = 0\n",
    "\n",
    "\n",
    "mark = [start_room]\n",
    "marked = set([start_room]) # marked = [False]*n_rooms; marked[start_room] = True\n",
    "\n",
    "while mark:\n",
    "    \n",
    "    room = mark.pop()\n",
    "    \n",
    "    n_rooms += 1\n",
    "        \n",
    "    for next_room in neighbors[room]:\n",
    "        \n",
    "        if next_room in marked:\n",
    "            continue\n",
    "        \n",
    "        mark.append(next_room)\n",
    "        marked.add(next_room)\n",
    "\n",
    "print(n_rooms)"
   ]
  },
  {
   "cell_type": "markdown",
   "metadata": {},
   "source": [
    "* target room을 찾아라!\n",
    "\n",
    "\n",
    "* room의 모든 개수를 찾아라!"
   ]
  },
  {
   "cell_type": "markdown",
   "metadata": {},
   "source": [
    "### BFS"
   ]
  },
  {
   "cell_type": "markdown",
   "metadata": {},
   "source": [
    "<img src='img/dfs.png' width=40% />"
   ]
  },
  {
   "cell_type": "code",
   "execution_count": null,
   "metadata": {},
   "outputs": [],
   "source": [
    "# 1. 처음에 시작 위치에 수리검을 꽂고 시작한다. 이 위치를 미나토는 똑똑히 기록하고 있다...\n",
    "\n",
    "# 2. 가장 안 최근 꽂은 수리검으로 순간이동한다. 이 곳을 꼼꼼히 살피고 기록한다. 아직..아직이야!\n",
    "\n",
    "# 3. 인근 모든 곳에 수리검이 꽂힌적이 없다면 수리검을 푱푱 날린다. 푱푱!\n",
    "\n",
    "# 4. 이짓을 목표에 도달하거나 갈 수리검이 없을 때까지 반복한다."
   ]
  },
  {
   "cell_type": "code",
   "execution_count": null,
   "metadata": {},
   "outputs": [],
   "source": [
    "from collections import deque\n",
    "\n",
    "mark = deque([start_room])\n",
    "marked = set([start_room])\n",
    "\n",
    "while mark:\n",
    "    \n",
    "    room = mark.popleft()\n",
    "    \n",
    "    do_something(rooms)\n",
    "    \n",
    "    for next_room in neighbors[room]:\n",
    "        \n",
    "        if next_room in marked:\n",
    "            continue\n",
    "        \n",
    "        mark.append(next_room)\n",
    "        marked.add(next_room)"
   ]
  },
  {
   "cell_type": "markdown",
   "metadata": {},
   "source": [
    "* by depth"
   ]
  },
  {
   "cell_type": "markdown",
   "metadata": {},
   "source": [
    "<img src='img/dfs.png' width=40% />"
   ]
  },
  {
   "cell_type": "code",
   "execution_count": null,
   "metadata": {},
   "outputs": [],
   "source": [
    "# 1. 1세대 나루토 한명이 시작위치에 있다. 얼른 호카게님을 찾아야 된다니깐!\n",
    "\n",
    "# 2. n세대 나루토들은 자신을 방을 꼼꼼히 살핀다.\n",
    "\n",
    "# 3. n세대 나루토들은 그림자 분신술로 n+1세대 나루토들을 호출하여 다른 나루토가 없는 인근 방으로 보낸다.\n",
    "\n",
    "# 4. 이짓을 목표에 도달하거나 더이상 볼 곳이 없을때까지 반복한다."
   ]
  },
  {
   "cell_type": "markdown",
   "metadata": {},
   "source": [
    "```python\n",
    "nth_narutos = [start_room]\n",
    "visited = set([start_room])\n",
    "\n",
    "n = 0\n",
    "\n",
    "while nth_narutos:\n",
    "    \n",
    "    n += 1\n",
    "    \n",
    "    next_nth_narutos = []\n",
    "    \n",
    "    for naruto in nth_narutos:\n",
    "\n",
    "        do_something(naruto)\n",
    "\n",
    "        for next_naruto in neighbors[naruto]:\n",
    "\n",
    "            if next_naruto in visited:\n",
    "                continue\n",
    "\n",
    "            next_nth_narutos.append(next_naruto)\n",
    "            visited.add(next_naruto)\n",
    "    \n",
    "    nth_narutos = next_nth_narutos\n",
    "```"
   ]
  },
  {
   "cell_type": "code",
   "execution_count": 49,
   "metadata": {},
   "outputs": [
    {
     "name": "stdout",
     "output_type": "stream",
     "text": [
      "2\n"
     ]
    }
   ],
   "source": [
    "start_room = 0\n",
    "\n",
    "nth_narutos = [start_room]\n",
    "visited = set([start_room])\n",
    "\n",
    "n = 0\n",
    "\n",
    "while nth_narutos:\n",
    "\n",
    "    n += 1\n",
    "\n",
    "    next_nth_narutos = []\n",
    "\n",
    "    for naruto in nth_narutos:\n",
    "\n",
    "        if naruto == 5:\n",
    "            print(n)\n",
    "\n",
    "        for next_naruto in neighbors[naruto]:\n",
    "\n",
    "            if next_naruto in visited:\n",
    "                continue\n",
    "\n",
    "            next_nth_narutos.append(next_naruto)\n",
    "            visited.add(next_naruto)\n",
    "    \n",
    "    nth_narutos = next_nth_narutos"
   ]
  },
  {
   "cell_type": "markdown",
   "metadata": {},
   "source": [
    "* dfs by reccursion"
   ]
  },
  {
   "cell_type": "markdown",
   "metadata": {},
   "source": [
    "<img src='img/dfs.png' width=40% />"
   ]
  },
  {
   "cell_type": "code",
   "execution_count": 50,
   "metadata": {},
   "outputs": [
    {
     "name": "stdout",
     "output_type": "stream",
     "text": [
      "[0, 1, 2, 3, 4]\n",
      "[0, 1, 2, 4]\n",
      "[0, 5, 2, 3, 4]\n",
      "[0, 5, 2, 4]\n"
     ]
    }
   ],
   "source": [
    "start_room = 0\n",
    "marks = [start_room]\n",
    "visited = set([start_room])\n",
    "\n",
    "path = [start_room]\n",
    "\n",
    "def dfs(room, target):\n",
    "    \n",
    "    if room == target:\n",
    "        print(path)\n",
    "    \n",
    "    for next_room in neighbors[room]:\n",
    "\n",
    "        if next_room in visited:\n",
    "            continue\n",
    "        \n",
    "        visited.add(next_room)\n",
    "        path.append(next_room)\n",
    "        \n",
    "        dfs(next_room, target)      \n",
    "        \n",
    "        visited.remove(next_room)\n",
    "        path.pop()\n",
    "\n",
    "dfs(0, 4)"
   ]
  },
  {
   "cell_type": "code",
   "execution_count": 37,
   "metadata": {},
   "outputs": [
    {
     "name": "stdout",
     "output_type": "stream",
     "text": [
      "[1, 2]\n",
      "[1, 3]\n",
      "[1, 4]\n",
      "[1, 5]\n",
      "[2, 3]\n",
      "[2, 4]\n",
      "[2, 5]\n",
      "[3, 4]\n",
      "[3, 5]\n",
      "[4, 5]\n"
     ]
    }
   ],
   "source": [
    "def combinations(l, n):\n",
    "    \n",
    "    comb = []\n",
    "    \n",
    "    def dfs(i, n_):\n",
    "        \n",
    "        if n_ == 0:\n",
    "            print(comb)\n",
    "            return \n",
    "\n",
    "        for j in range(i, len(l) - n_ + 1):\n",
    "            comb.append(l[j])\n",
    "            dfs(j + 1, n_-1)\n",
    "            comb.pop()\n",
    "\n",
    "    dfs(0, n)\n",
    "\n",
    "combinations([1,2,3,4,5], 2)"
   ]
  },
  {
   "cell_type": "markdown",
   "metadata": {},
   "source": [
    "https://programmers.co.kr/learn/courses/30/lessons/1844\n"
   ]
  },
  {
   "cell_type": "markdown",
   "metadata": {},
   "source": [
    "https://programmers.co.kr/learn/courses/30/lessons/49189"
   ]
  },
  {
   "cell_type": "markdown",
   "metadata": {},
   "source": [
    "https://programmers.co.kr/learn/courses/30/lessons/43163"
   ]
  },
  {
   "cell_type": "markdown",
   "metadata": {},
   "source": [
    "## Djikstra"
   ]
  },
  {
   "cell_type": "markdown",
   "metadata": {},
   "source": [
    "<img src='img/djikstra.png' width=50%/>"
   ]
  },
  {
   "cell_type": "code",
   "execution_count": null,
   "metadata": {},
   "outputs": [],
   "source": [
    "# 1. 처음에 시작 위치에 거리 0을 적은 수리검을 꽂고 시작한다. 미나토는 아직 아무것도 확신할 수 없다.\n",
    "\n",
    "# 2. 적어둔 거리가 가장 적은 수리검으로 순간이동한다.\n",
    "\n",
    "# 3. 만약 이미 미나토가 왔었던 곳이라면 최소거리가 아니므로 무시하고 2번으로 돌아간다.\n",
    "\n",
    "# 4. 만약 첨 와본 곳이라면.. 하하. 이 곳은 이 거리가 최소거리인것을 확신할 수 있겠군.. 기록을 한다..\n",
    "\n",
    "# 5. 연결되있는 모든 곳에 수리검을 날린다. 핫! 핫! 이때 각 수리검에 (시작위치에서 현재거리 + 현재거리에서 그곳까지의 거리)를 적어둔다."
   ]
  },
  {
   "cell_type": "code",
   "execution_count": 51,
   "metadata": {},
   "outputs": [],
   "source": [
    "neighbors = {\n",
    "    1: [(3, 41), (4, 10), (5, 24), (6, 25)],\n",
    "    2: [(3, 22), (4, 66)],\n",
    "    3: [(1, 41), (2, 22), (5, 24)],\n",
    "    4: [(1, 10), (2, 66), (6, 50)],\n",
    "    5: [(1, 24), (3, 24), (6, 2)],\n",
    "    6: [(1, 25), (4, 50), (5, 2)]\n",
    "}"
   ]
  },
  {
   "cell_type": "code",
   "execution_count": 52,
   "metadata": {},
   "outputs": [
    {
     "name": "stdout",
     "output_type": "stream",
     "text": [
      "{4: 0, 1: 10, 5: 34, 6: 35, 3: 51, 2: 66}\n"
     ]
    }
   ],
   "source": [
    "from heapq import heappop, heappush\n",
    "\n",
    "start = (0, 4)\n",
    "\n",
    "min_dist = {}\n",
    "hq = [start]\n",
    "\n",
    "while hq:\n",
    "    \n",
    "    dst, node = heappop(hq)\n",
    "    \n",
    "    if node in min_dist:\n",
    "        continue\n",
    "    \n",
    "    min_dist[node] = dst\n",
    "    \n",
    "    for next_node, d_dst in neighbors[node]:\n",
    "        \n",
    "        if next_node not in min_dist:\n",
    "            heappush(hq, (dst + d_dst, next_node))\n",
    "\n",
    "print(min_dist)"
   ]
  },
  {
   "cell_type": "code",
   "execution_count": null,
   "metadata": {},
   "outputs": [],
   "source": []
  }
 ],
 "metadata": {
  "kernelspec": {
   "display_name": "Python 3",
   "language": "python",
   "name": "python3"
  },
  "language_info": {
   "codemirror_mode": {
    "name": "ipython",
    "version": 3
   },
   "file_extension": ".py",
   "mimetype": "text/x-python",
   "name": "python",
   "nbconvert_exporter": "python",
   "pygments_lexer": "ipython3",
   "version": "3.8.5"
  }
 },
 "nbformat": 4,
 "nbformat_minor": 5
}
