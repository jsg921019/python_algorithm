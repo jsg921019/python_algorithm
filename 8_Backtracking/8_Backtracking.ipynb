{
 "cells": [
  {
   "cell_type": "markdown",
   "source": [
    "## Backtracking"
   ],
   "metadata": {}
  },
  {
   "cell_type": "markdown",
   "source": [
    "<img src='./img/dfs.png' width=40% />"
   ],
   "metadata": {}
  },
  {
   "cell_type": "code",
   "execution_count": 2,
   "source": [
    "neighbors = {0:[1,5], 1:[2], 2:[1,3,4,5], 3:[2,4], 4:[2,3], 5:[0, 2]}"
   ],
   "outputs": [],
   "metadata": {}
  },
  {
   "cell_type": "code",
   "execution_count": 7,
   "source": [
    "def find_all_paths(start, finish):\n",
    "\n",
    "    stack = [[start]]\n",
    "\n",
    "    while stack:\n",
    "        \n",
    "        path = stack.pop()\n",
    "        node = path[-1]\n",
    "        if node == finish:\n",
    "            print(path)\n",
    "            continue\n",
    "\n",
    "        for next_node in neighbors[node]:\n",
    "            if next_node not in path:\n",
    "                stack.append(path+[next_node])\n",
    "\n",
    "find_all_paths(0, 4)"
   ],
   "outputs": [
    {
     "output_type": "stream",
     "name": "stdout",
     "text": [
      "[0, 5, 2, 4]\n",
      "[0, 5, 2, 3, 4]\n",
      "[0, 1, 2, 4]\n",
      "[0, 1, 2, 3, 4]\n"
     ]
    }
   ],
   "metadata": {}
  },
  {
   "cell_type": "code",
   "execution_count": 8,
   "source": [
    "def find_all_paths(start, finish):\n",
    "\n",
    "    def rec(path):\n",
    "\n",
    "        if path[-1] == finish:\n",
    "            print(path)\n",
    "            return\n",
    "\n",
    "        for next_node in neighbors[path[-1]]:\n",
    "            if next_node not in path:\n",
    "                rec(path+[next_node])\n",
    "        \n",
    "    rec([start])\n",
    "\n",
    "find_all_paths(0, 4)"
   ],
   "outputs": [
    {
     "output_type": "stream",
     "name": "stdout",
     "text": [
      "[0, 1, 2, 3, 4]\n",
      "[0, 1, 2, 4]\n",
      "[0, 5, 2, 3, 4]\n",
      "[0, 5, 2, 4]\n"
     ]
    }
   ],
   "metadata": {}
  },
  {
   "cell_type": "code",
   "execution_count": 9,
   "source": [
    "def find_all_paths(start, finish):\n",
    "\n",
    "    path = [start]\n",
    "\n",
    "    def rec():\n",
    "\n",
    "        if path[-1] == finish:\n",
    "            print(path)\n",
    "            return\n",
    "\n",
    "        for next_node in neighbors[path[-1]]:\n",
    "            if next_node not in path:\n",
    "                path.append(next_node)\n",
    "                rec()\n",
    "                path.pop()\n",
    "        \n",
    "    rec()\n",
    "\n",
    "find_all_paths(0, 4)"
   ],
   "outputs": [
    {
     "output_type": "stream",
     "name": "stdout",
     "text": [
      "[0, 1, 2, 3, 4]\n",
      "[0, 1, 2, 4]\n",
      "[0, 5, 2, 3, 4]\n",
      "[0, 5, 2, 4]\n"
     ]
    }
   ],
   "metadata": {}
  },
  {
   "cell_type": "code",
   "execution_count": 6,
   "source": [
    "def find_all_paths(start, finish):\n",
    "\n",
    "    path = [start]\n",
    "    visited = [0]*6\n",
    "    visited[start] = 1\n",
    "\n",
    "    def rec():\n",
    "\n",
    "        if path[-1] == finish:\n",
    "            print(path)\n",
    "            return\n",
    "\n",
    "        for next_node in neighbors[path[-1]]:\n",
    "            if not visited[next_node]:\n",
    "                visited[next_node] = 1\n",
    "                path.append(next_node)\n",
    "                rec()\n",
    "                path.pop()\n",
    "                visited[next_node] = 0\n",
    "        \n",
    "    rec()\n",
    "\n",
    "find_all_paths(0, 4)"
   ],
   "outputs": [
    {
     "output_type": "stream",
     "name": "stdout",
     "text": [
      "[0, 1, 2, 3, 4]\n",
      "[0, 1, 2, 4]\n",
      "[0, 5, 2, 3, 4]\n",
      "[0, 5, 2, 4]\n"
     ]
    }
   ],
   "metadata": {}
  },
  {
   "cell_type": "code",
   "execution_count": null,
   "source": [],
   "outputs": [],
   "metadata": {}
  }
 ],
 "metadata": {
  "orig_nbformat": 4,
  "language_info": {
   "name": "python",
   "version": "3.9.7",
   "mimetype": "text/x-python",
   "codemirror_mode": {
    "name": "ipython",
    "version": 3
   },
   "pygments_lexer": "ipython3",
   "nbconvert_exporter": "python",
   "file_extension": ".py"
  },
  "kernelspec": {
   "name": "python3",
   "display_name": "Python 3.9.7 64-bit ('nonogram': conda)"
  },
  "interpreter": {
   "hash": "8d08de652c29e97955cf26e6ceb7d8de8533cd55f1230530ecb34347e800f09c"
  }
 },
 "nbformat": 4,
 "nbformat_minor": 2
}