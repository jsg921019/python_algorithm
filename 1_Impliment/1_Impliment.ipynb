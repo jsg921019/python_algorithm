{
 "cells": [
  {
   "cell_type": "markdown",
   "source": [
    "# Ⅰ. 자료형"
   ],
   "metadata": {}
  },
  {
   "cell_type": "markdown",
   "source": [
    "\n",
    "## 1. int / float"
   ],
   "metadata": {}
  },
  {
   "cell_type": "markdown",
   "source": [
    "> 연산"
   ],
   "metadata": {}
  },
  {
   "cell_type": "code",
   "execution_count": 1,
   "source": [
    "print(3 + 2) # 더하기\n",
    "print(3 - 2) # 빼기\n",
    "print(3 * 2) # 곱하기\n",
    "print(3 / 2) # 나누기\n",
    "print(3 ** 2) # 제곱\n",
    "print(3 // 2) # 나머지\n",
    "print(3 % 2) # 몫"
   ],
   "outputs": [
    {
     "output_type": "stream",
     "name": "stdout",
     "text": [
      "5\n",
      "1\n",
      "6\n",
      "1.5\n",
      "9\n",
      "1\n",
      "1\n"
     ]
    }
   ],
   "metadata": {}
  },
  {
   "cell_type": "markdown",
   "source": [
    "> 함수"
   ],
   "metadata": {}
  },
  {
   "cell_type": "code",
   "execution_count": 4,
   "source": [
    "nums = [1, 2, 3, 4]\n",
    "\n",
    "print('max :', max(nums))\n",
    "print('min :', min(nums))\n",
    "print('sum :', sum(nums))"
   ],
   "outputs": [
    {
     "output_type": "stream",
     "name": "stdout",
     "text": [
      "max : 4\n",
      "min : 1\n",
      "sum : 10\n"
     ]
    }
   ],
   "metadata": {}
  },
  {
   "cell_type": "code",
   "execution_count": 7,
   "source": [
    "import math\n",
    "\n",
    "print('1 x 2 x 3 x 4 :', math.prod(nums))\n",
    "print('4! :', math.factorial(4))\n",
    "print('4C2 :', math.comb(4,2))"
   ],
   "outputs": [
    {
     "output_type": "stream",
     "name": "stdout",
     "text": [
      "1 x 2 x 3 x 4 : 24\n",
      "4! : 24\n",
      "4C2 : 6\n"
     ]
    }
   ],
   "metadata": {}
  },
  {
   "cell_type": "code",
   "execution_count": 8,
   "source": [
    "print(int(1.7)) # 내림\n",
    "print(math.ceil(1.3)) # 올림\n",
    "print(round(1.72)) # 반올림"
   ],
   "outputs": [
    {
     "output_type": "stream",
     "name": "stdout",
     "text": [
      "1\n",
      "2\n",
      "2\n"
     ]
    }
   ],
   "metadata": {}
  },
  {
   "cell_type": "markdown",
   "source": [
    "> 기타"
   ],
   "metadata": {}
  },
  {
   "cell_type": "code",
   "execution_count": 9,
   "source": [
    "float('inf') # 무한대"
   ],
   "outputs": [
    {
     "output_type": "execute_result",
     "data": {
      "text/plain": [
       "inf"
      ]
     },
     "metadata": {},
     "execution_count": 9
    }
   ],
   "metadata": {}
  },
  {
   "cell_type": "markdown",
   "source": [
    "## 2. bool"
   ],
   "metadata": {}
  },
  {
   "cell_type": "markdown",
   "source": [
    "* 연산"
   ],
   "metadata": {}
  },
  {
   "cell_type": "code",
   "execution_count": 16,
   "source": [
    "print(1 < 2, 1 > 2, 1 <= 2, 1 >= 2, 1 == 2, 1 != 2) # 비교 연산자\n",
    "print(1 in [1, 2], 1 not in [1, 2]) # 포함 / 비포함\n",
    "print(not 1 < 2) # 반전\n",
    "print(True and False) # and\n",
    "print(True or False) # or"
   ],
   "outputs": [
    {
     "output_type": "stream",
     "name": "stdout",
     "text": [
      "True False True False False True\n",
      "True False\n",
      "False\n",
      "False\n",
      "True\n"
     ]
    }
   ],
   "metadata": {}
  },
  {
   "cell_type": "markdown",
   "source": [
    "* 함수"
   ],
   "metadata": {}
  },
  {
   "cell_type": "code",
   "execution_count": 18,
   "source": [
    "print(any([False, False, False]))\n",
    "print(all([True, True, True]))"
   ],
   "outputs": [
    {
     "output_type": "stream",
     "name": "stdout",
     "text": [
      "False\n",
      "True\n"
     ]
    }
   ],
   "metadata": {}
  },
  {
   "cell_type": "markdown",
   "source": [
    "## 3. str"
   ],
   "metadata": {}
  },
  {
   "cell_type": "markdown",
   "source": [
    "> 연산"
   ],
   "metadata": {}
  },
  {
   "cell_type": "code",
   "execution_count": 28,
   "source": [
    "print(\"hello\" + \"world\")\n",
    "print(\"hello\" * 3)\n",
    "print('hello' in 'againhelloworld')"
   ],
   "outputs": [
    {
     "output_type": "stream",
     "name": "stdout",
     "text": [
      "helloworld\n",
      "hellohellohello\n",
      "True\n"
     ]
    }
   ],
   "metadata": {}
  },
  {
   "cell_type": "markdown",
   "source": [
    "> 함수"
   ],
   "metadata": {}
  },
  {
   "cell_type": "markdown",
   "source": [
    "* check"
   ],
   "metadata": {}
  },
  {
   "cell_type": "code",
   "execution_count": 22,
   "source": [
    "print('alphabet'.isalpha()) # 알파벳으로 이루어져 있나?\n",
    "print('12345'.isdigit()) # 숫자로 이루어져 있나?\n",
    "print('PYTHON'.isupper()) # 대문자인가?\n",
    "print('python'.islower()) # 소문자인가?\n",
    "print('alphabet'.startswith('alpha')) # 이 str으로 시작하는가?\n",
    "print('endswith'.endswith('with')) # 이 str으로 끝나는가?"
   ],
   "outputs": [
    {
     "output_type": "stream",
     "name": "stdout",
     "text": [
      "True\n",
      "True\n",
      "True\n",
      "True\n",
      "True\n",
      "True\n"
     ]
    }
   ],
   "metadata": {}
  },
  {
   "cell_type": "markdown",
   "source": [
    "* convert"
   ],
   "metadata": {}
  },
  {
   "cell_type": "code",
   "execution_count": 24,
   "source": [
    "print('python'.upper())\n",
    "print('PYTHON'.lower())"
   ],
   "outputs": [
    {
     "output_type": "stream",
     "name": "stdout",
     "text": [
      "PYTHON\n",
      "python\n"
     ]
    }
   ],
   "metadata": {}
  },
  {
   "cell_type": "markdown",
   "source": [
    "* substitution"
   ],
   "metadata": {}
  },
  {
   "cell_type": "code",
   "execution_count": 31,
   "source": [
    "print('i dont want any spaces'.replace(' ', '')) # 교체\n",
    "print('you are my number one'.replace('one', '1'))"
   ],
   "outputs": [
    {
     "output_type": "stream",
     "name": "stdout",
     "text": [
      "idontwantanyspaces\n",
      "you are my number 1\n"
     ]
    }
   ],
   "metadata": {}
  },
  {
   "cell_type": "markdown",
   "source": [
    "* strip"
   ],
   "metadata": {}
  },
  {
   "cell_type": "code",
   "execution_count": 35,
   "source": [
    "print(' python  \\n'.strip()) # 전처리같은거\n",
    "print('python...'.strip('.'))\n",
    "print(' python  \\n'.rstrip())"
   ],
   "outputs": [
    {
     "output_type": "stream",
     "name": "stdout",
     "text": [
      "python\n",
      "python\n",
      " python\n"
     ]
    }
   ],
   "metadata": {}
  },
  {
   "cell_type": "markdown",
   "source": [
    "> re (정규표현식)"
   ],
   "metadata": {}
  },
  {
   "cell_type": "markdown",
   "source": [
    "* search "
   ],
   "metadata": {}
  },
  {
   "cell_type": "code",
   "execution_count": 48,
   "source": [
    "import re\n",
    "\n",
    "s = '내 이메일은 jung1234@gmail.com입니다.'\n",
    "match = re.search(r'(\\w+)@(\\w+).[a-zA-Z]+', s)\n",
    "\n",
    "print(match.group(), match.group(1), match.group(2))"
   ],
   "outputs": [
    {
     "output_type": "stream",
     "name": "stdout",
     "text": [
      "jung1234@gmail.com jung1234 gmail\n"
     ]
    }
   ],
   "metadata": {}
  },
  {
   "cell_type": "markdown",
   "source": [
    "* findall"
   ],
   "metadata": {}
  },
  {
   "cell_type": "code",
   "execution_count": 56,
   "source": [
    "s = \"2apples and 5 bananas cost 11000won.\"\n",
    "\n",
    "re.findall('(\\d+) ?(\\w+)', s)"
   ],
   "outputs": [
    {
     "output_type": "execute_result",
     "data": {
      "text/plain": [
       "[('2', 'apples'), ('5', 'bananas'), ('11000', 'won')]"
      ]
     },
     "metadata": {},
     "execution_count": 56
    }
   ],
   "metadata": {}
  },
  {
   "cell_type": "markdown",
   "source": [
    "* split"
   ],
   "metadata": {}
  },
  {
   "cell_type": "code",
   "execution_count": 57,
   "source": [
    "s = \"0----2-010--222\"\n",
    "\n",
    "re.split('-+', s)"
   ],
   "outputs": [
    {
     "output_type": "execute_result",
     "data": {
      "text/plain": [
       "['0', '2', '010', '222']"
      ]
     },
     "metadata": {},
     "execution_count": 57
    }
   ],
   "metadata": {}
  },
  {
   "cell_type": "markdown",
   "source": [
    "* sub"
   ],
   "metadata": {}
  },
  {
   "cell_type": "code",
   "execution_count": 64,
   "source": [
    "s = 'I liVe in Seoul, Korea'\n",
    "\n",
    "def f(match):\n",
    "    print(match)\n",
    "    return len(match.group()) * '*'\n",
    "\n",
    "re.sub(r'\\b[A-Z]\\w+\\b', f, s)"
   ],
   "outputs": [
    {
     "output_type": "stream",
     "name": "stdout",
     "text": [
      "<re.Match object; span=(10, 15), match='Seoul'>\n",
      "<re.Match object; span=(17, 22), match='Korea'>\n"
     ]
    },
    {
     "output_type": "execute_result",
     "data": {
      "text/plain": [
       "'I liVe in *****, *****'"
      ]
     },
     "metadata": {},
     "execution_count": 64
    }
   ],
   "metadata": {}
  },
  {
   "cell_type": "markdown",
   "source": [
    "# Ⅱ. 자료구조"
   ],
   "metadata": {}
  },
  {
   "cell_type": "markdown",
   "source": [
    "## 1. List"
   ],
   "metadata": {}
  },
  {
   "cell_type": "markdown",
   "source": [
    "> 연산"
   ],
   "metadata": {}
  },
  {
   "cell_type": "code",
   "execution_count": 76,
   "source": [
    "l = [0, 1, 2, 3, 4, 5, 6, 7]\n",
    "print(l + [8, 9, 10]) # extend\n",
    "print(l * 3) # mul\n",
    "print(1 in l) # in\n",
    "print(l[0]) # index\n",
    "print(l[2:6:2]) # slicing"
   ],
   "outputs": [
    {
     "output_type": "stream",
     "name": "stdout",
     "text": [
      "[0, 1, 2, 3, 4, 5, 6, 7, 8, 9, 10]\n",
      "[0, 1, 2, 3, 4, 5, 6, 7, 0, 1, 2, 3, 4, 5, 6, 7, 0, 1, 2, 3, 4, 5, 6, 7]\n",
      "True\n",
      "0\n",
      "[2, 4]\n"
     ]
    }
   ],
   "metadata": {}
  },
  {
   "cell_type": "markdown",
   "source": [
    "> 함수"
   ],
   "metadata": {}
  },
  {
   "cell_type": "code",
   "execution_count": 71,
   "source": [
    "l = [5, 3, 1, 4]\n",
    "\n",
    "l.append(10)\n",
    "print('after append:', l)\n",
    "\n",
    "popped = l.pop()\n",
    "print('after pop:', l, popped)\n",
    "\n",
    "l.sort() # sorted(l)\n",
    "print('after sort', l)"
   ],
   "outputs": [
    {
     "output_type": "stream",
     "name": "stdout",
     "text": [
      "after append: [5, 3, 1, 4, 10]\n",
      "after pop: [5, 3, 1, 4] 10\n",
      "after sort [1, 3, 4, 5]\n"
     ]
    }
   ],
   "metadata": {}
  },
  {
   "cell_type": "markdown",
   "source": [
    "## 2. Tuple"
   ],
   "metadata": {}
  },
  {
   "cell_type": "markdown",
   "source": [
    "> 연산"
   ],
   "metadata": {}
  },
  {
   "cell_type": "code",
   "execution_count": 77,
   "source": [
    "t = (0, 1, 2, 3, 4, 5, 6, 7)\n",
    "print(t + (8, 9, 10)) # extend\n",
    "print(t * 3) # mul\n",
    "print(1 in t) # in\n",
    "print(t[0]) # index\n",
    "print(t[2:6:2]) # slicing"
   ],
   "outputs": [
    {
     "output_type": "stream",
     "name": "stdout",
     "text": [
      "(0, 1, 2, 3, 4, 5, 6, 7, 8, 9, 10)\n",
      "(0, 1, 2, 3, 4, 5, 6, 7, 0, 1, 2, 3, 4, 5, 6, 7, 0, 1, 2, 3, 4, 5, 6, 7)\n",
      "True\n",
      "0\n",
      "(2, 4)\n"
     ]
    }
   ],
   "metadata": {}
  },
  {
   "cell_type": "markdown",
   "source": [
    "## 3. Set"
   ],
   "metadata": {}
  },
  {
   "cell_type": "markdown",
   "source": [
    "> 연산"
   ],
   "metadata": {}
  },
  {
   "cell_type": "code",
   "execution_count": 78,
   "source": [
    "s1, s2 = {1, 2, 3, 4}, {3, 4, 5, 6}\n",
    "print(s1 & s2) # 교집합\n",
    "print(s1 | s2) # 합집합\n",
    "print(s1 - s2) # 차집합\n",
    "print(1 in s1) # in "
   ],
   "outputs": [
    {
     "output_type": "stream",
     "name": "stdout",
     "text": [
      "{3, 4}\n",
      "{1, 2, 3, 4, 5, 6}\n",
      "{1, 2}\n",
      "True\n"
     ]
    }
   ],
   "metadata": {}
  },
  {
   "cell_type": "markdown",
   "source": [
    "> 함수"
   ],
   "metadata": {}
  },
  {
   "cell_type": "code",
   "execution_count": 94,
   "source": [
    "s = {1, 2, 3, 4}\n",
    "\n",
    "s.add(5) # append\n",
    "print('after add', s)\n",
    "\n",
    "s.remove(5) # pop\n",
    "print('after remove', s)"
   ],
   "outputs": [
    {
     "output_type": "stream",
     "name": "stdout",
     "text": [
      "after add {1, 2, 3, 4, 5}\n",
      "after remove {1, 2, 3, 4}\n"
     ]
    }
   ],
   "metadata": {}
  },
  {
   "cell_type": "code",
   "execution_count": 95,
   "source": [
    "print(s.issubset({1,2,3,4,5,6})) # 부분집합인가?\n",
    "print(s.issuperset({1,2})) # 모집합인가?"
   ],
   "outputs": [
    {
     "output_type": "stream",
     "name": "stdout",
     "text": [
      "True\n",
      "True\n"
     ]
    }
   ],
   "metadata": {}
  },
  {
   "cell_type": "code",
   "execution_count": 88,
   "source": [
    "l = list(range(100000))\n",
    "s = set(range(100000))\n",
    "\n",
    "import random\n",
    "n = random.randint(0, 99999)"
   ],
   "outputs": [],
   "metadata": {}
  },
  {
   "cell_type": "code",
   "execution_count": 89,
   "source": [
    "%%time\n",
    "\n",
    "n in l"
   ],
   "outputs": [
    {
     "output_type": "stream",
     "name": "stdout",
     "text": [
      "CPU times: user 449 µs, sys: 0 ns, total: 449 µs\n",
      "Wall time: 454 µs\n"
     ]
    },
    {
     "output_type": "execute_result",
     "data": {
      "text/plain": [
       "True"
      ]
     },
     "metadata": {},
     "execution_count": 89
    }
   ],
   "metadata": {}
  },
  {
   "cell_type": "code",
   "execution_count": 90,
   "source": [
    "%%time\n",
    "\n",
    "n in s"
   ],
   "outputs": [
    {
     "output_type": "stream",
     "name": "stdout",
     "text": [
      "CPU times: user 3 µs, sys: 0 ns, total: 3 µs\n",
      "Wall time: 5.96 µs\n"
     ]
    },
    {
     "output_type": "execute_result",
     "data": {
      "text/plain": [
       "True"
      ]
     },
     "metadata": {},
     "execution_count": 90
    }
   ],
   "metadata": {}
  },
  {
   "cell_type": "markdown",
   "source": [
    "## 4. Dictionary"
   ],
   "metadata": {}
  },
  {
   "cell_type": "markdown",
   "source": [
    "> 연산"
   ],
   "metadata": {}
  },
  {
   "cell_type": "code",
   "execution_count": 97,
   "source": [
    "d = {'a':1, 'b':2}\n",
    "\n",
    "print(d['a']) # indexing\n",
    "\n",
    "d['c'] = 3 # add\n",
    "print(d)\n",
    "\n",
    "del d['c'] # remove\n",
    "print(d)\n",
    "\n",
    "print('a' in d) # in"
   ],
   "outputs": [
    {
     "output_type": "stream",
     "name": "stdout",
     "text": [
      "1\n",
      "{'a': 1, 'b': 2, 'c': 3}\n",
      "{'a': 1, 'b': 2}\n",
      "True\n"
     ]
    }
   ],
   "metadata": {}
  },
  {
   "cell_type": "markdown",
   "source": [
    "> 함수"
   ],
   "metadata": {}
  },
  {
   "cell_type": "code",
   "execution_count": 100,
   "source": [
    "d1 = {'a':1, 'b':2}\n",
    "d2 = {'b':3, 'c':4}\n",
    "\n",
    "d1.update(d2)\n",
    "d1"
   ],
   "outputs": [
    {
     "output_type": "execute_result",
     "data": {
      "text/plain": [
       "{'a': 1, 'b': 3, 'c': 4}"
      ]
     },
     "metadata": {},
     "execution_count": 100
    }
   ],
   "metadata": {}
  },
  {
   "cell_type": "code",
   "execution_count": 101,
   "source": [
    "for k in d.keys():\n",
    "    print(k)\n",
    "\n",
    "# for v in d.values():\n",
    "#     print(v)\n",
    "\n",
    "# for k, v in d.items():\n",
    "#     print(k, v)"
   ],
   "outputs": [
    {
     "output_type": "stream",
     "name": "stdout",
     "text": [
      "a\n",
      "b\n",
      "1\n",
      "2\n",
      "a 1\n",
      "b 2\n"
     ]
    }
   ],
   "metadata": {}
  },
  {
   "cell_type": "markdown",
   "source": [
    "## 4-1 Defaultdict"
   ],
   "metadata": {}
  },
  {
   "cell_type": "code",
   "execution_count": 102,
   "source": [
    "from collections import defaultdict\n",
    "\n",
    "d = defaultdict(int)\n",
    "d['sdf']"
   ],
   "outputs": [
    {
     "output_type": "execute_result",
     "data": {
      "text/plain": [
       "0"
      ]
     },
     "metadata": {},
     "execution_count": 102
    }
   ],
   "metadata": {}
  },
  {
   "cell_type": "code",
   "execution_count": 131,
   "source": [
    "vocab = ['apple', 'banana', 'angle', 'ant', 'boat']\n",
    "# {'a': ['apple', 'angle', 'ant'], 'b': ['banana', 'boat']}"
   ],
   "outputs": [],
   "metadata": {}
  },
  {
   "cell_type": "code",
   "execution_count": 133,
   "source": [
    "d = dict()\n",
    "\n",
    "for word in vocab:\n",
    "    if word[0] in d:\n",
    "        d[word[0]].append(word)\n",
    "    else:\n",
    "        d[word[0]] = [word]\n",
    "        \n",
    "d"
   ],
   "outputs": [
    {
     "output_type": "execute_result",
     "data": {
      "text/plain": [
       "{'a': ['apple', 'angle', 'ant'], 'b': ['banana', 'boat']}"
      ]
     },
     "metadata": {},
     "execution_count": 133
    }
   ],
   "metadata": {}
  },
  {
   "cell_type": "code",
   "execution_count": 132,
   "source": [
    "dd = defaultdict(list)\n",
    "\n",
    "for word in vocab:\n",
    "    dd[word[0]].append(word)\n",
    "\n",
    "dd"
   ],
   "outputs": [
    {
     "output_type": "execute_result",
     "data": {
      "text/plain": [
       "defaultdict(list, {'a': ['apple', 'angle', 'ant'], 'b': ['banana', 'boat']})"
      ]
     },
     "metadata": {},
     "execution_count": 132
    }
   ],
   "metadata": {}
  },
  {
   "cell_type": "markdown",
   "source": [
    "## 4-2 Counter"
   ],
   "metadata": {}
  },
  {
   "cell_type": "code",
   "execution_count": 104,
   "source": [
    "items = ['cat', 'dog', 'dog', 'mouse', 'cat', 'dog']\n",
    "# {'cat': 2, 'dog': 3, 'mouse': 1}"
   ],
   "outputs": [],
   "metadata": {}
  },
  {
   "cell_type": "code",
   "execution_count": 105,
   "source": [
    "cntr = defaultdict(int)\n",
    "for i in items:\n",
    "    cntr[i] += 1\n",
    "\n",
    "cntr"
   ],
   "outputs": [
    {
     "output_type": "execute_result",
     "data": {
      "text/plain": [
       "defaultdict(int, {'cat': 2, 'dog': 3, 'mouse': 1})"
      ]
     },
     "metadata": {},
     "execution_count": 105
    }
   ],
   "metadata": {}
  },
  {
   "cell_type": "code",
   "execution_count": 106,
   "source": [
    "from collections import Counter\n",
    "\n",
    "c = Counter(items)\n",
    "c"
   ],
   "outputs": [
    {
     "output_type": "execute_result",
     "data": {
      "text/plain": [
       "Counter({'cat': 2, 'dog': 3, 'mouse': 1})"
      ]
     },
     "metadata": {},
     "execution_count": 106
    }
   ],
   "metadata": {}
  },
  {
   "cell_type": "code",
   "execution_count": 107,
   "source": [
    "more_items = ['elephant', 'mouse', 'dog', 'dog']\n",
    "\n",
    "c.update(more_items)\n",
    "c"
   ],
   "outputs": [
    {
     "output_type": "execute_result",
     "data": {
      "text/plain": [
       "Counter({'cat': 2, 'dog': 5, 'mouse': 2, 'elephant': 1})"
      ]
     },
     "metadata": {},
     "execution_count": 107
    }
   ],
   "metadata": {}
  },
  {
   "cell_type": "code",
   "execution_count": 108,
   "source": [
    "c.most_common()"
   ],
   "outputs": [
    {
     "output_type": "execute_result",
     "data": {
      "text/plain": [
       "[('dog', 5), ('cat', 2), ('mouse', 2), ('elephant', 1)]"
      ]
     },
     "metadata": {},
     "execution_count": 108
    }
   ],
   "metadata": {}
  },
  {
   "cell_type": "code",
   "execution_count": 112,
   "source": [
    "c1 = Counter(['a', 'a', 'b', 'b', 'c', 'c', 'd', 'd'])\n",
    "c2 = Counter(['a', 'b', 'c', 'e', 'f'])\n",
    "\n",
    "print(c1, c2)\n",
    "print()\n",
    "print(c1 + c2) # 더하기\n",
    "print(c1 - c2) # 빼기\n",
    "print(c1 & c2) # 둘 중 작은값\n",
    "print(c2 | c2) # 둘 중 큰값"
   ],
   "outputs": [
    {
     "output_type": "stream",
     "name": "stdout",
     "text": [
      "Counter({'a': 2, 'b': 2, 'c': 2, 'd': 2}) Counter({'a': 1, 'b': 1, 'c': 1, 'e': 1, 'f': 1})\n",
      "\n",
      "Counter({'a': 3, 'b': 3, 'c': 3, 'd': 2, 'e': 1, 'f': 1})\n",
      "Counter({'d': 2, 'a': 1, 'b': 1, 'c': 1})\n",
      "Counter({'a': 1, 'b': 1, 'c': 1})\n",
      "Counter({'a': 1, 'b': 1, 'c': 1, 'e': 1, 'f': 1})\n"
     ]
    }
   ],
   "metadata": {}
  },
  {
   "cell_type": "markdown",
   "source": [
    "## 5. deque"
   ],
   "metadata": {}
  },
  {
   "cell_type": "code",
   "execution_count": 114,
   "source": [
    "from collections import deque\n",
    "\n",
    "dq = deque([0, 1, 2, 3, 4])\n",
    "\n",
    "dq.appendleft(5)\n",
    "print(dq)\n",
    "\n",
    "dq.popleft()\n",
    "print(dq)"
   ],
   "outputs": [
    {
     "output_type": "stream",
     "name": "stdout",
     "text": [
      "deque([5, 0, 1, 2, 3, 4])\n",
      "deque([0, 1, 2, 3, 4])\n"
     ]
    }
   ],
   "metadata": {}
  },
  {
   "cell_type": "code",
   "execution_count": 115,
   "source": [
    "l = list(range(100000))\n",
    "dq = deque(range(100000))"
   ],
   "outputs": [],
   "metadata": {}
  },
  {
   "cell_type": "code",
   "execution_count": 117,
   "source": [
    "%%time\n",
    "\n",
    "l.insert(0, 0)"
   ],
   "outputs": [
    {
     "output_type": "stream",
     "name": "stdout",
     "text": [
      "CPU times: user 134 µs, sys: 0 ns, total: 134 µs\n",
      "Wall time: 138 µs\n"
     ]
    }
   ],
   "metadata": {}
  },
  {
   "cell_type": "code",
   "execution_count": 118,
   "source": [
    "%%time\n",
    "\n",
    "dq.appendleft(0)"
   ],
   "outputs": [
    {
     "output_type": "stream",
     "name": "stdout",
     "text": [
      "CPU times: user 3 µs, sys: 0 ns, total: 3 µs\n",
      "Wall time: 6.44 µs\n"
     ]
    }
   ],
   "metadata": {}
  },
  {
   "cell_type": "code",
   "execution_count": 119,
   "source": [
    "%%time\n",
    "\n",
    "l[50000]"
   ],
   "outputs": [
    {
     "output_type": "stream",
     "name": "stdout",
     "text": [
      "CPU times: user 3 µs, sys: 1e+03 ns, total: 4 µs\n",
      "Wall time: 5.96 µs\n"
     ]
    },
    {
     "output_type": "execute_result",
     "data": {
      "text/plain": [
       "49999"
      ]
     },
     "metadata": {},
     "execution_count": 119
    }
   ],
   "metadata": {}
  },
  {
   "cell_type": "code",
   "execution_count": 120,
   "source": [
    "%%time\n",
    "\n",
    "dq[50000]"
   ],
   "outputs": [
    {
     "output_type": "stream",
     "name": "stdout",
     "text": [
      "CPU times: user 38 µs, sys: 0 ns, total: 38 µs\n",
      "Wall time: 41 µs\n"
     ]
    },
    {
     "output_type": "execute_result",
     "data": {
      "text/plain": [
       "49999"
      ]
     },
     "metadata": {},
     "execution_count": 120
    }
   ],
   "metadata": {}
  },
  {
   "cell_type": "markdown",
   "source": [
    "## 6. heapq"
   ],
   "metadata": {}
  },
  {
   "cell_type": "code",
   "execution_count": 122,
   "source": [
    "from heapq import heapify, heappop, heappush\n",
    "\n",
    "# heappify\n",
    "l = [1, 5, 2, 7, 9, 10]\n",
    "heapify(l)\n",
    "print(l)"
   ],
   "outputs": [
    {
     "output_type": "stream",
     "name": "stdout",
     "text": [
      "[1, 5, 2, 7, 9, 10]\n"
     ]
    }
   ],
   "metadata": {}
  },
  {
   "cell_type": "code",
   "execution_count": 123,
   "source": [
    "# add element\n",
    "heappush(l, 0)\n",
    "print(l)"
   ],
   "outputs": [
    {
     "output_type": "stream",
     "name": "stdout",
     "text": [
      "[0, 5, 1, 7, 9, 10, 2]\n"
     ]
    }
   ],
   "metadata": {}
  },
  {
   "cell_type": "code",
   "execution_count": 124,
   "source": [
    "min_item = heappop(l)\n",
    "print(l, min_item)"
   ],
   "outputs": [
    {
     "output_type": "stream",
     "name": "stdout",
     "text": [
      "[1, 5, 2, 7, 9, 10] 0\n"
     ]
    }
   ],
   "metadata": {}
  },
  {
   "cell_type": "markdown",
   "source": [
    "# Ⅲ. 형변환"
   ],
   "metadata": {}
  },
  {
   "cell_type": "code",
   "execution_count": 134,
   "source": [
    "print(int('1234')) # int\n",
    "print(str(1234)) # str\n",
    "print(list({1, 2, 3, 4})) # set -> list\n",
    "print(set([1, 2, 3, 4])) # list -> set"
   ],
   "outputs": [
    {
     "output_type": "stream",
     "name": "stdout",
     "text": [
      "1234\n",
      "1234\n",
      "[1, 2, 3, 4]\n",
      "{1, 2, 3, 4}\n"
     ]
    }
   ],
   "metadata": {}
  },
  {
   "cell_type": "markdown",
   "source": [
    "## 1. ? -> bool"
   ],
   "metadata": {}
  },
  {
   "cell_type": "code",
   "execution_count": null,
   "source": [
    "## int => 0 일때 false\n",
    "n = 5\n",
    "while n != 0:\n",
    "    print(n)\n",
    "    n -= 1"
   ],
   "outputs": [],
   "metadata": {}
  },
  {
   "cell_type": "code",
   "execution_count": null,
   "source": [
    "## 컨테이너형 => 비어있을때 false\n",
    "l = [0, 1, 2, 0, -3]\n",
    "\n",
    "while len(l) != 0:\n",
    "    print(l.pop())"
   ],
   "outputs": [],
   "metadata": {}
  },
  {
   "cell_type": "code",
   "execution_count": 138,
   "source": [
    "## 객체가 없을때 (None)=> false\n",
    "\n",
    "import re\n",
    "\n",
    "match = re.search(r'\\d+', 'asadfsf')\n",
    "if match:\n",
    "    print(match.group())\n",
    "else:\n",
    "    print(\"no match\")"
   ],
   "outputs": [
    {
     "output_type": "stream",
     "name": "stdout",
     "text": [
      "no match\n"
     ]
    }
   ],
   "metadata": {}
  },
  {
   "cell_type": "markdown",
   "source": [
    "## 2. string <-> list"
   ],
   "metadata": {}
  },
  {
   "cell_type": "markdown",
   "source": [
    "* string -> list"
   ],
   "metadata": {}
  },
  {
   "cell_type": "code",
   "execution_count": 140,
   "source": [
    "\"programmers jayul jooheng\".split()"
   ],
   "outputs": [
    {
     "output_type": "execute_result",
     "data": {
      "text/plain": [
       "['programmers', 'jayul', 'jooheng']"
      ]
     },
     "metadata": {},
     "execution_count": 140
    }
   ],
   "metadata": {
    "scrolled": true
   }
  },
  {
   "cell_type": "code",
   "execution_count": 139,
   "source": [
    "\"you and i and us\".split(\" and \")"
   ],
   "outputs": [
    {
     "output_type": "execute_result",
     "data": {
      "text/plain": [
       "['you', 'i', 'us']"
      ]
     },
     "metadata": {},
     "execution_count": 139
    }
   ],
   "metadata": {}
  },
  {
   "cell_type": "markdown",
   "source": [
    "* list -> string"
   ],
   "metadata": {}
  },
  {
   "cell_type": "code",
   "execution_count": 15,
   "source": [
    "\" \".join([\"your\", \"code\", \"my\", \"code\"])"
   ],
   "outputs": [
    {
     "output_type": "display_data",
     "data": {
      "text/plain": [
       "'your code my code'"
      ]
     },
     "metadata": {}
    }
   ],
   "metadata": {}
  },
  {
   "cell_type": "code",
   "execution_count": 17,
   "source": [
    "\", \".join([\"one\", \"two\", \"three\"])"
   ],
   "outputs": [
    {
     "output_type": "display_data",
     "data": {
      "text/plain": [
       "'one, two, three'"
      ]
     },
     "metadata": {}
    }
   ],
   "metadata": {}
  },
  {
   "cell_type": "markdown",
   "source": [
    "## 3. int <-> str"
   ],
   "metadata": {}
  },
  {
   "cell_type": "code",
   "execution_count": 141,
   "source": [
    "print(ord('A')) # char -> ascii\n",
    "print(chr(65)) # ascii -> char"
   ],
   "outputs": [
    {
     "output_type": "stream",
     "name": "stdout",
     "text": [
      "65\n",
      "A\n"
     ]
    }
   ],
   "metadata": {}
  },
  {
   "cell_type": "code",
   "execution_count": 360,
   "source": [
    "{i:chr(i+64) for i in range(1, 27)}"
   ],
   "outputs": [
    {
     "output_type": "display_data",
     "data": {
      "text/plain": [
       "{1: 'A',\n",
       " 2: 'B',\n",
       " 3: 'C',\n",
       " 4: 'D',\n",
       " 5: 'E',\n",
       " 6: 'F',\n",
       " 7: 'G',\n",
       " 8: 'H',\n",
       " 9: 'I',\n",
       " 10: 'J',\n",
       " 11: 'K',\n",
       " 12: 'L',\n",
       " 13: 'M',\n",
       " 14: 'N',\n",
       " 15: 'O',\n",
       " 16: 'P',\n",
       " 17: 'Q',\n",
       " 18: 'R',\n",
       " 19: 'S',\n",
       " 20: 'T',\n",
       " 21: 'U',\n",
       " 22: 'V',\n",
       " 23: 'W',\n",
       " 24: 'X',\n",
       " 25: 'Y',\n",
       " 26: 'Z'}"
      ]
     },
     "metadata": {}
    }
   ],
   "metadata": {
    "scrolled": true
   }
  },
  {
   "cell_type": "markdown",
   "source": [
    "* 10진수 <-> 이진수"
   ],
   "metadata": {}
  },
  {
   "cell_type": "code",
   "execution_count": 160,
   "source": [
    "print(bin(7)) # int -> binary\n",
    "print(int(\"0b111\", 2)) # binary -> int"
   ],
   "outputs": [
    {
     "output_type": "stream",
     "name": "stdout",
     "text": [
      "0b111\n",
      "7\n"
     ]
    }
   ],
   "metadata": {}
  },
  {
   "cell_type": "markdown",
   "source": [
    "# Ⅳ. 제어문"
   ],
   "metadata": {}
  },
  {
   "cell_type": "markdown",
   "source": [
    "## 1. if else"
   ],
   "metadata": {}
  },
  {
   "cell_type": "code",
   "execution_count": 162,
   "source": [
    "x = 10\n",
    "\n",
    "if x > 0:\n",
    "    print('plus')\n",
    "elif x < 0:\n",
    "    print('minus')\n",
    "else:\n",
    "    print('zero')"
   ],
   "outputs": [
    {
     "output_type": "stream",
     "name": "stdout",
     "text": [
      "plus\n"
     ]
    }
   ],
   "metadata": {}
  },
  {
   "cell_type": "markdown",
   "source": [
    "## 2. for"
   ],
   "metadata": {}
  },
  {
   "cell_type": "code",
   "execution_count": 168,
   "source": [
    "for x in \"programmers. school.\":\n",
    "    if x in 'aeiou':\n",
    "        continue\n",
    "    print(x)\n",
    "    if x == '.':\n",
    "        break\n",
    "else:\n",
    "    print('.')\n"
   ],
   "outputs": [
    {
     "output_type": "stream",
     "name": "stdout",
     "text": [
      "p\n",
      "r\n",
      "g\n",
      "r\n",
      "m\n",
      "m\n",
      "r\n",
      "s\n",
      ".\n"
     ]
    }
   ],
   "metadata": {}
  },
  {
   "cell_type": "markdown",
   "source": [
    "## 3. while"
   ],
   "metadata": {}
  },
  {
   "cell_type": "code",
   "execution_count": 170,
   "source": [
    "s = \"programmers\"\n",
    "\n",
    "while s:\n",
    "\n",
    "    x, s = s[0], s[1:]\n",
    "\n",
    "    if x in 'aeiou':\n",
    "        continue\n",
    "    print(x)\n",
    "\n",
    "    if x == '.':\n",
    "        break\n",
    "else:\n",
    "    print('.')"
   ],
   "outputs": [
    {
     "output_type": "stream",
     "name": "stdout",
     "text": [
      "p\n",
      "r\n",
      "g\n",
      "r\n",
      "m\n",
      "m\n",
      "r\n",
      "s\n",
      ".\n"
     ]
    }
   ],
   "metadata": {}
  },
  {
   "cell_type": "markdown",
   "source": [
    "# Ⅴ. 기타"
   ],
   "metadata": {}
  },
  {
   "cell_type": "markdown",
   "source": [
    "## 1. Unpacking"
   ],
   "metadata": {}
  },
  {
   "cell_type": "code",
   "execution_count": 172,
   "source": [
    "l = [1, 2, 3]\n",
    "\n",
    "a, b, c = l[0], l[1], l[2]\n",
    "print(a, b, c)"
   ],
   "outputs": [
    {
     "output_type": "stream",
     "name": "stdout",
     "text": [
      "1 2 3\n"
     ]
    }
   ],
   "metadata": {}
  },
  {
   "cell_type": "code",
   "execution_count": 173,
   "source": [
    "a, b, c = l\n",
    "print(a, b, c)"
   ],
   "outputs": [
    {
     "output_type": "stream",
     "name": "stdout",
     "text": [
      "1 2 3\n"
     ]
    }
   ],
   "metadata": {}
  },
  {
   "cell_type": "code",
   "execution_count": 345,
   "source": [
    "for l in [[1,2], [2,3], [3, 4]]:\n",
    "    print(l[0], l[1])"
   ],
   "outputs": [
    {
     "output_type": "stream",
     "name": "stdout",
     "text": [
      "1 2\n",
      "2 3\n",
      "3 4\n"
     ]
    }
   ],
   "metadata": {}
  },
  {
   "cell_type": "code",
   "execution_count": 349,
   "source": [
    "for i, l in [[1, [1,2]], [2, [2,3]], [3, [4,5]]]:\n",
    "    print(i, l[0], l[1])"
   ],
   "outputs": [
    {
     "output_type": "stream",
     "name": "stdout",
     "text": [
      "1 1 2\n",
      "2 2 3\n",
      "3 4 5\n"
     ]
    }
   ],
   "metadata": {}
  },
  {
   "cell_type": "code",
   "execution_count": 180,
   "source": [
    "def f(a, b, c):\n",
    "    return a + b + c"
   ],
   "outputs": [],
   "metadata": {}
  },
  {
   "cell_type": "code",
   "execution_count": 181,
   "source": [
    "query = [[1, 2, 3], [3, 2, -1], [4, 5, 0], [1, 1, 2]]"
   ],
   "outputs": [],
   "metadata": {}
  },
  {
   "cell_type": "code",
   "execution_count": 183,
   "source": [
    "for q in query:\n",
    "    print(f(q[0], q[1], q[2]))"
   ],
   "outputs": [
    {
     "output_type": "stream",
     "name": "stdout",
     "text": [
      "6\n",
      "4\n",
      "9\n",
      "4\n"
     ]
    }
   ],
   "metadata": {
    "scrolled": true
   }
  },
  {
   "cell_type": "code",
   "execution_count": 175,
   "source": [
    "l = ['apple', 'banana', 'carrot']\n",
    "print(l)\n",
    "print(*l)"
   ],
   "outputs": [
    {
     "output_type": "stream",
     "name": "stdout",
     "text": [
      "['apple', 'banana', 'carrot']\n",
      "apple banana carrot\n"
     ]
    }
   ],
   "metadata": {}
  },
  {
   "cell_type": "markdown",
   "source": [
    "## 2. Ternary operator"
   ],
   "metadata": {}
  },
  {
   "cell_type": "code",
   "execution_count": 339,
   "source": [
    "heights = [1, 10, 3, 32, 2] # ['Low', 'High', 'Low', 'High', 'Low']\n",
    "\n",
    "res = []\n",
    "\n",
    "for h in heights:\n",
    "    if h < 10:\n",
    "        res.append('Low')\n",
    "    else:\n",
    "        res.append('High')\n",
    "\n",
    "print(res)"
   ],
   "outputs": [
    {
     "output_type": "stream",
     "name": "stdout",
     "text": [
      "['Low', 'High', 'Low', 'High', 'Low']\n"
     ]
    }
   ],
   "metadata": {}
  },
  {
   "cell_type": "code",
   "execution_count": 340,
   "source": [
    "res = []\n",
    "\n",
    "for h in heights:\n",
    "    res.append('Low' if h < 10 else 'High')\n",
    "    \n",
    "print(res)"
   ],
   "outputs": [
    {
     "output_type": "stream",
     "name": "stdout",
     "text": [
      "['Low', 'High', 'Low', 'High', 'Low']\n"
     ]
    }
   ],
   "metadata": {}
  },
  {
   "cell_type": "markdown",
   "source": [
    "## 3. List Comprehension"
   ],
   "metadata": {}
  },
  {
   "cell_type": "code",
   "execution_count": 148,
   "source": [
    "# 첫 10개의 제곱수\n",
    "\n",
    "res = []\n",
    "for i in range(10):\n",
    "    res.append(i*i)\n",
    "print(res)"
   ],
   "outputs": [
    {
     "output_type": "stream",
     "name": "stdout",
     "text": [
      "[0, 1, 4, 9, 16, 25, 36, 49, 64, 81]\n"
     ]
    }
   ],
   "metadata": {}
  },
  {
   "cell_type": "code",
   "execution_count": 333,
   "source": [
    "[i*i for i in range(10)]"
   ],
   "outputs": [
    {
     "output_type": "execute_result",
     "data": {
      "text/plain": [
       "[0, 1, 4, 9, 16, 25, 36, 49, 64, 81]"
      ]
     },
     "metadata": {},
     "execution_count": 333
    }
   ],
   "metadata": {}
  },
  {
   "cell_type": "code",
   "execution_count": 151,
   "source": [
    "# 3x3 grid의 모든 좌표\n",
    "\n",
    "res = []\n",
    "for i in range(3):\n",
    "    for j in range(3):\n",
    "        res.append((i, j))\n",
    "print(res)"
   ],
   "outputs": [
    {
     "output_type": "stream",
     "name": "stdout",
     "text": [
      "[(0, 0), (0, 1), (0, 2), (1, 0), (1, 1), (1, 2), (2, 0), (2, 1), (2, 2)]\n"
     ]
    }
   ],
   "metadata": {}
  },
  {
   "cell_type": "code",
   "execution_count": 334,
   "source": [
    "[(i, j) for i in range(3) for j in range(3)]"
   ],
   "outputs": [
    {
     "output_type": "execute_result",
     "data": {
      "text/plain": [
       "[(0, 0), (0, 1), (0, 2), (1, 0), (1, 1), (1, 2), (2, 0), (2, 1), (2, 2)]"
      ]
     },
     "metadata": {},
     "execution_count": 334
    }
   ],
   "metadata": {}
  },
  {
   "cell_type": "code",
   "execution_count": 153,
   "source": [
    "# i != j 좌표를 제외한 좌표\n",
    "\n",
    "res = []\n",
    "for i in range(3):\n",
    "    for j in range(3):\n",
    "        if i != j:\n",
    "            res.append((i, j))\n",
    "print(res)"
   ],
   "outputs": [
    {
     "output_type": "stream",
     "name": "stdout",
     "text": [
      "[(0, 1), (0, 2), (1, 0), (1, 2), (2, 0), (2, 1)]\n"
     ]
    }
   ],
   "metadata": {}
  },
  {
   "cell_type": "code",
   "execution_count": 154,
   "source": [
    "res = [(i, j) for i in range(3) for j in range(3) if i != j]\n",
    "print(res)"
   ],
   "outputs": [
    {
     "output_type": "stream",
     "name": "stdout",
     "text": [
      "[(0, 1), (0, 2), (1, 0), (1, 2), (2, 0), (2, 1)]\n"
     ]
    }
   ],
   "metadata": {}
  },
  {
   "cell_type": "markdown",
   "source": [
    "## 4. Zip / Enumerate"
   ],
   "metadata": {}
  },
  {
   "cell_type": "code",
   "execution_count": 177,
   "source": [
    "ids    = [1001, 1002, 1003, 1004]\n",
    "names  = ['A' , 'B' , 'C' , 'D' ]\n",
    "grades = [94  , 19  , 44  , 55  ]\n",
    "\n",
    "# (1001, 'A', 94), (1002, 'B', 19), ..."
   ],
   "outputs": [],
   "metadata": {}
  },
  {
   "cell_type": "code",
   "execution_count": 180,
   "source": [
    "for i in range(len(names)):\n",
    "    print((ids[i], names[i], grades[i]))"
   ],
   "outputs": [
    {
     "output_type": "stream",
     "name": "stdout",
     "text": [
      "(1001, 'A', 94)\n",
      "(1002, 'B', 19)\n",
      "(1003, 'C', 44)\n",
      "(1004, 'D', 55)\n"
     ]
    }
   ],
   "metadata": {}
  },
  {
   "cell_type": "code",
   "execution_count": 179,
   "source": [
    "for record in zip(ids, names, grades):\n",
    "    print(record)"
   ],
   "outputs": [
    {
     "output_type": "stream",
     "name": "stdout",
     "text": [
      "(1001, 'A', 94)\n",
      "(1002, 'B', 19)\n",
      "(1003, 'C', 44)\n",
      "(1004, 'D', 55)\n"
     ]
    }
   ],
   "metadata": {}
  },
  {
   "cell_type": "code",
   "execution_count": 178,
   "source": [
    "scores = {'math':[60, 30, 10], 'english':[20, 90, 80], 'korean':[40, 60, 60]}"
   ],
   "outputs": [],
   "metadata": {}
  },
  {
   "cell_type": "code",
   "execution_count": 189,
   "source": [
    "for x in zip(*scores.values()):\n",
    "    print(x, sum(x)/3)"
   ],
   "outputs": [
    {
     "output_type": "stream",
     "name": "stdout",
     "text": [
      "(60, 20, 40) 40.0\n",
      "(30, 90, 60) 60.0\n",
      "(10, 80, 60) 50.0\n"
     ]
    }
   ],
   "metadata": {}
  },
  {
   "cell_type": "code",
   "execution_count": 181,
   "source": [
    "l = ['a', 'b', 'c', 'd']\n",
    "for i, x in zip(range(len(l)), l):\n",
    "    print(i, x)"
   ],
   "outputs": [
    {
     "output_type": "stream",
     "name": "stdout",
     "text": [
      "0 a\n",
      "1 b\n",
      "2 c\n",
      "3 d\n"
     ]
    }
   ],
   "metadata": {
    "scrolled": true
   }
  },
  {
   "cell_type": "code",
   "execution_count": 182,
   "source": [
    "l = ['a', 'b', 'c', 'd']\n",
    "for i, x in enumerate(l):\n",
    "    print(i, x)"
   ],
   "outputs": [
    {
     "output_type": "stream",
     "name": "stdout",
     "text": [
      "0 a\n",
      "1 b\n",
      "2 c\n",
      "3 d\n"
     ]
    }
   ],
   "metadata": {
    "scrolled": true
   }
  },
  {
   "cell_type": "markdown",
   "source": [
    "# Ⅵ. 예제"
   ],
   "metadata": {}
  },
  {
   "cell_type": "markdown",
   "source": [
    "[튜플](https://programmers.co.kr/learn/courses/30/lessons/64065?language=python3)  \n",
    "[스킬 트리](https://programmers.co.kr/learn/courses/30/lessons/49993?language=python3)  \n",
    "[신고 결과 받기](https://school.programmers.co.kr/learn/courses/30/lessons/92334)  \n",
    "[주차 요금 계산](https://school.programmers.co.kr/learn/courses/30/lessons/92341?language=python3)  "
   ],
   "metadata": {}
  }
 ],
 "metadata": {
  "kernelspec": {
   "name": "python3",
   "display_name": "Python 3.9.7 64-bit ('nonogram': conda)"
  },
  "language_info": {
   "codemirror_mode": {
    "name": "ipython",
    "version": 3
   },
   "file_extension": ".py",
   "mimetype": "text/x-python",
   "name": "python",
   "nbconvert_exporter": "python",
   "pygments_lexer": "ipython3",
   "version": "3.9.7"
  },
  "interpreter": {
   "hash": "8d08de652c29e97955cf26e6ceb7d8de8533cd55f1230530ecb34347e800f09c"
  }
 },
 "nbformat": 4,
 "nbformat_minor": 4
}