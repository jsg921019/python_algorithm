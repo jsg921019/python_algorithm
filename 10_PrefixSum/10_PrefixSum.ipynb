{
 "cells": [
  {
   "cell_type": "markdown",
   "source": [
    "# Prefix Sum"
   ],
   "metadata": {}
  },
  {
   "cell_type": "code",
   "execution_count": 1,
   "source": [
    "arr = [6, 1, 4, 5, 2, 4]\n",
    "\n",
    "queries = [[0, 4], [1, 3], [3, 6], [4, 5]] # what is sum[i:j]?"
   ],
   "outputs": [],
   "metadata": {}
  },
  {
   "cell_type": "code",
   "execution_count": 3,
   "source": [
    "for i, j in queries:\n",
    "    print(sum(arr[i:j]))"
   ],
   "outputs": [
    {
     "output_type": "stream",
     "name": "stdout",
     "text": [
      "16\n",
      "5\n",
      "11\n",
      "2\n"
     ]
    }
   ],
   "metadata": {}
  },
  {
   "cell_type": "code",
   "execution_count": 4,
   "source": [
    "acc = [0]\n",
    "for a in arr:\n",
    "    acc.append(acc[-1]+a)\n",
    "acc"
   ],
   "outputs": [
    {
     "output_type": "execute_result",
     "data": {
      "text/plain": [
       "[0, 6, 7, 11, 16, 18, 22]"
      ]
     },
     "metadata": {},
     "execution_count": 4
    }
   ],
   "metadata": {}
  },
  {
   "cell_type": "code",
   "execution_count": 5,
   "source": [
    "for i, j in queries:\n",
    "    print(acc[j] - acc[i])"
   ],
   "outputs": [
    {
     "output_type": "stream",
     "name": "stdout",
     "text": [
      "16\n",
      "5\n",
      "11\n",
      "2\n"
     ]
    }
   ],
   "metadata": {}
  },
  {
   "cell_type": "code",
   "execution_count": 15,
   "source": [
    "from itertools import accumulate\n",
    "\n",
    "list(accumulate(arr))"
   ],
   "outputs": [
    {
     "output_type": "execute_result",
     "data": {
      "text/plain": [
       "[6, 7, 11, 16, 18, 22]"
      ]
     },
     "metadata": {},
     "execution_count": 15
    }
   ],
   "metadata": {}
  },
  {
   "cell_type": "markdown",
   "source": [
    "## 예시문제  \n",
    "  \n",
    "https://www.acmicpc.net/problem/11659  \n",
    "https://www.acmicpc.net/problem/11660  "
   ],
   "metadata": {}
  }
 ],
 "metadata": {
  "orig_nbformat": 4,
  "language_info": {
   "name": "python",
   "version": "3.9.7",
   "mimetype": "text/x-python",
   "codemirror_mode": {
    "name": "ipython",
    "version": 3
   },
   "pygments_lexer": "ipython3",
   "nbconvert_exporter": "python",
   "file_extension": ".py"
  },
  "kernelspec": {
   "name": "python3",
   "display_name": "Python 3.9.7 64-bit ('nonogram': conda)"
  },
  "interpreter": {
   "hash": "8d08de652c29e97955cf26e6ceb7d8de8533cd55f1230530ecb34347e800f09c"
  }
 },
 "nbformat": 4,
 "nbformat_minor": 2
}